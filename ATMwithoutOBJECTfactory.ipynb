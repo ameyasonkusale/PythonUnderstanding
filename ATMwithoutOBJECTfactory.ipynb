{
 "cells": [
  {
   "cell_type": "code",
   "execution_count": 1,
   "metadata": {},
   "outputs": [],
   "source": [
    "class Balance:\n",
    "    totalBalance=20000\n",
    "    def updateBalance(self,amt,opt):\n",
    "        global totalBalance\n",
    "        if(opt==1):\n",
    "            self.totalBalance += amt\n",
    "            print(\" The Amount after deposit \",self.totalBalance)\n",
    "            \n",
    "        elif(opt==2):\n",
    "            self.totalBalance-=amt\n",
    "            print(\" The Amount after withdrawl \",self.totalBalance)\n",
    "        else:\n",
    "            print(\"wrong input\")\n",
    "            \n",
    "    def getBalance(self):\n",
    "        return self.totalBalance()\n",
    "    \n",
    "        "
   ]
  },
  {
   "cell_type": "code",
   "execution_count": 2,
   "metadata": {},
   "outputs": [],
   "source": [
    "class Deposit:\n",
    "    B=Balance()\n",
    "    def getDeposit(self,amt,opt):\n",
    "        self.B.updateBalance(amt,opt)\n",
    "        "
   ]
  },
  {
   "cell_type": "code",
   "execution_count": 3,
   "metadata": {},
   "outputs": [],
   "source": [
    "class Withdraw:\n",
    "    B1=Balance()\n",
    "    def getWithdrawal(self,amt,opt):\n",
    "        self.B1.updateBalance(amt,opt)"
   ]
  },
  {
   "cell_type": "code",
   "execution_count": 4,
   "metadata": {},
   "outputs": [],
   "source": [
    "class PinChange():\n",
    "    pin=1111\n",
    "    def getpin(self):\n",
    "        return self.pin\n",
    "    def updatepin(self,npin,opt):\n",
    "        pin=npin\n",
    "        print('Pin change Successfully')"
   ]
  },
  {
   "cell_type": "code",
   "execution_count": 5,
   "metadata": {},
   "outputs": [],
   "source": [
    "class Option:\n",
    "    D=Deposit()\n",
    "    W=Withdraw()\n",
    "    B=Balance()\n",
    "    P=PinChange()\n",
    "    def getOption(self):\n",
    "        pro = int(input(\"Enter 1 to Proceed \"))\n",
    "        print(\" \")  \n",
    "        \n",
    "        while(pro == 1):\n",
    "            opt=int(input(\"enter your option\"))\n",
    "            if(opt==1):\n",
    "                amt=int(input(\"enter amount to deposit\"))\n",
    "                self.D.getDeposit(amt,opt)\n",
    "            elif(opt==2):\n",
    "                amt=int(input(\"enter amount to withdraw\"))\n",
    "                self.W.getWithdrawal(amt,opt)\n",
    "            elif(opt==3):\n",
    "                GetBal=self.B.getBalance()\n",
    "                print(\"your balance is\",GetBal)\n",
    "            elif(opt==4):\n",
    "                npin=int(input(\"enter your new pin   \"))\n",
    "                self.P.updatepin(npin,opt)\n",
    "            else:\n",
    "                print(\"THANK YOU VISIT AGAIN\")\n",
    "        \n",
    "        \n"
   ]
  },
  {
   "cell_type": "code",
   "execution_count": 6,
   "metadata": {},
   "outputs": [],
   "source": [
    "class Menu:\n",
    "    def MyMenu(self):\n",
    "        \n",
    "        print(\"press 1 for deposit\")\n",
    "        print(\"press 2 for withdrawal\")\n",
    "        print(\"press 3 for balance\")\n",
    "        print(\"press 4 for pin change\")\n",
    "        print(\"press 5 for exit\")     \n",
    "    "
   ]
  },
  {
   "cell_type": "code",
   "execution_count": 7,
   "metadata": {},
   "outputs": [],
   "source": [
    "class Authentification:\n",
    "    M=Menu()\n",
    "    O=Option()\n",
    "    P=PinChange()\n",
    "    c=P.getpin()\n",
    "    def auth(self,upin):\n",
    "        global c\n",
    "        if (self.c==upin):\n",
    "            print(\"login sucessful\")\n",
    "            self.M.MyMenu()\n",
    "            self.O.getOption()\n",
    "        else:\n",
    "            print(\"invalid input \")\n",
    "    "
   ]
  },
  {
   "cell_type": "code",
   "execution_count": 8,
   "metadata": {},
   "outputs": [],
   "source": [
    "class ATM:\n",
    "    A = Authentification()\n",
    "    \n",
    "    def Welcome(self):\n",
    "        print(\"welome to Axis Bank\")\n",
    "        upswd=int(input(\"enter your pin\"))\n",
    "        self.A.auth(upswd)\n",
    "    "
   ]
  },
  {
   "cell_type": "code",
   "execution_count": 9,
   "metadata": {},
   "outputs": [
    {
     "name": "stdout",
     "output_type": "stream",
     "text": [
      "welome to Axis Bank\n",
      "enter your pin1111\n",
      "login sucessful\n",
      "press 1 for deposit\n",
      "press 2 for withdrawal\n",
      "press 3 for balance\n",
      "press 4 for pin change\n",
      "press 5 for exit\n",
      "Enter 1 to Proceed 1\n",
      " \n",
      "enter your option1\n",
      "enter amount to deposit1\n",
      " The Amount after deposit  20001\n",
      "enter your option2\n",
      "enter amount to withdraw1\n",
      " The Amount after withdrawl  19999\n",
      "enter your option4\n",
      "enter your new pin   1245\n",
      "Pin change Successfully\n",
      "enter your option3\n"
     ]
    },
    {
     "ename": "TypeError",
     "evalue": "'int' object is not callable",
     "output_type": "error",
     "traceback": [
      "\u001b[1;31m---------------------------------------------------------------------------\u001b[0m",
      "\u001b[1;31mTypeError\u001b[0m                                 Traceback (most recent call last)",
      "\u001b[1;32m<ipython-input-9-64e78bbb7ad5>\u001b[0m in \u001b[0;36m<module>\u001b[1;34m\u001b[0m\n\u001b[0;32m      1\u001b[0m \u001b[0mA\u001b[0m\u001b[1;33m=\u001b[0m\u001b[0mATM\u001b[0m\u001b[1;33m(\u001b[0m\u001b[1;33m)\u001b[0m\u001b[1;33m\u001b[0m\u001b[1;33m\u001b[0m\u001b[0m\n\u001b[1;32m----> 2\u001b[1;33m \u001b[0mA\u001b[0m\u001b[1;33m.\u001b[0m\u001b[0mWelcome\u001b[0m\u001b[1;33m(\u001b[0m\u001b[1;33m)\u001b[0m\u001b[1;33m\u001b[0m\u001b[1;33m\u001b[0m\u001b[0m\n\u001b[0m\u001b[0;32m      3\u001b[0m \u001b[1;33m\u001b[0m\u001b[0m\n",
      "\u001b[1;32m<ipython-input-8-8f3c6e1fcc79>\u001b[0m in \u001b[0;36mWelcome\u001b[1;34m(self)\u001b[0m\n\u001b[0;32m      5\u001b[0m         \u001b[0mprint\u001b[0m\u001b[1;33m(\u001b[0m\u001b[1;34m\"welome to Axis Bank\"\u001b[0m\u001b[1;33m)\u001b[0m\u001b[1;33m\u001b[0m\u001b[1;33m\u001b[0m\u001b[0m\n\u001b[0;32m      6\u001b[0m         \u001b[0mupswd\u001b[0m\u001b[1;33m=\u001b[0m\u001b[0mint\u001b[0m\u001b[1;33m(\u001b[0m\u001b[0minput\u001b[0m\u001b[1;33m(\u001b[0m\u001b[1;34m\"enter your pin\"\u001b[0m\u001b[1;33m)\u001b[0m\u001b[1;33m)\u001b[0m\u001b[1;33m\u001b[0m\u001b[1;33m\u001b[0m\u001b[0m\n\u001b[1;32m----> 7\u001b[1;33m         \u001b[0mself\u001b[0m\u001b[1;33m.\u001b[0m\u001b[0mA\u001b[0m\u001b[1;33m.\u001b[0m\u001b[0mauth\u001b[0m\u001b[1;33m(\u001b[0m\u001b[0mupswd\u001b[0m\u001b[1;33m)\u001b[0m\u001b[1;33m\u001b[0m\u001b[1;33m\u001b[0m\u001b[0m\n\u001b[0m\u001b[0;32m      8\u001b[0m \u001b[1;33m\u001b[0m\u001b[0m\n",
      "\u001b[1;32m<ipython-input-7-454784cd786e>\u001b[0m in \u001b[0;36mauth\u001b[1;34m(self, upin)\u001b[0m\n\u001b[0;32m      9\u001b[0m             \u001b[0mprint\u001b[0m\u001b[1;33m(\u001b[0m\u001b[1;34m\"login sucessful\"\u001b[0m\u001b[1;33m)\u001b[0m\u001b[1;33m\u001b[0m\u001b[1;33m\u001b[0m\u001b[0m\n\u001b[0;32m     10\u001b[0m             \u001b[0mself\u001b[0m\u001b[1;33m.\u001b[0m\u001b[0mM\u001b[0m\u001b[1;33m.\u001b[0m\u001b[0mMyMenu\u001b[0m\u001b[1;33m(\u001b[0m\u001b[1;33m)\u001b[0m\u001b[1;33m\u001b[0m\u001b[1;33m\u001b[0m\u001b[0m\n\u001b[1;32m---> 11\u001b[1;33m             \u001b[0mself\u001b[0m\u001b[1;33m.\u001b[0m\u001b[0mO\u001b[0m\u001b[1;33m.\u001b[0m\u001b[0mgetOption\u001b[0m\u001b[1;33m(\u001b[0m\u001b[1;33m)\u001b[0m\u001b[1;33m\u001b[0m\u001b[1;33m\u001b[0m\u001b[0m\n\u001b[0m\u001b[0;32m     12\u001b[0m         \u001b[1;32melse\u001b[0m\u001b[1;33m:\u001b[0m\u001b[1;33m\u001b[0m\u001b[1;33m\u001b[0m\u001b[0m\n\u001b[0;32m     13\u001b[0m             \u001b[0mprint\u001b[0m\u001b[1;33m(\u001b[0m\u001b[1;34m\"invalid input \"\u001b[0m\u001b[1;33m)\u001b[0m\u001b[1;33m\u001b[0m\u001b[1;33m\u001b[0m\u001b[0m\n",
      "\u001b[1;32m<ipython-input-5-96a555ac9e49>\u001b[0m in \u001b[0;36mgetOption\u001b[1;34m(self)\u001b[0m\n\u001b[0;32m     17\u001b[0m                 \u001b[0mself\u001b[0m\u001b[1;33m.\u001b[0m\u001b[0mW\u001b[0m\u001b[1;33m.\u001b[0m\u001b[0mgetWithdrawal\u001b[0m\u001b[1;33m(\u001b[0m\u001b[0mamt\u001b[0m\u001b[1;33m,\u001b[0m\u001b[0mopt\u001b[0m\u001b[1;33m)\u001b[0m\u001b[1;33m\u001b[0m\u001b[1;33m\u001b[0m\u001b[0m\n\u001b[0;32m     18\u001b[0m             \u001b[1;32melif\u001b[0m\u001b[1;33m(\u001b[0m\u001b[0mopt\u001b[0m\u001b[1;33m==\u001b[0m\u001b[1;36m3\u001b[0m\u001b[1;33m)\u001b[0m\u001b[1;33m:\u001b[0m\u001b[1;33m\u001b[0m\u001b[1;33m\u001b[0m\u001b[0m\n\u001b[1;32m---> 19\u001b[1;33m                 \u001b[0mGetBal\u001b[0m\u001b[1;33m=\u001b[0m\u001b[0mself\u001b[0m\u001b[1;33m.\u001b[0m\u001b[0mB\u001b[0m\u001b[1;33m.\u001b[0m\u001b[0mgetBalance\u001b[0m\u001b[1;33m(\u001b[0m\u001b[1;33m)\u001b[0m\u001b[1;33m\u001b[0m\u001b[1;33m\u001b[0m\u001b[0m\n\u001b[0m\u001b[0;32m     20\u001b[0m                 \u001b[0mprint\u001b[0m\u001b[1;33m(\u001b[0m\u001b[1;34m\"your balance is\"\u001b[0m\u001b[1;33m,\u001b[0m\u001b[0mGetBal\u001b[0m\u001b[1;33m)\u001b[0m\u001b[1;33m\u001b[0m\u001b[1;33m\u001b[0m\u001b[0m\n\u001b[0;32m     21\u001b[0m             \u001b[1;32melif\u001b[0m\u001b[1;33m(\u001b[0m\u001b[0mopt\u001b[0m\u001b[1;33m==\u001b[0m\u001b[1;36m4\u001b[0m\u001b[1;33m)\u001b[0m\u001b[1;33m:\u001b[0m\u001b[1;33m\u001b[0m\u001b[1;33m\u001b[0m\u001b[0m\n",
      "\u001b[1;32m<ipython-input-1-37ed19a6cdde>\u001b[0m in \u001b[0;36mgetBalance\u001b[1;34m(self)\u001b[0m\n\u001b[0;32m     14\u001b[0m \u001b[1;33m\u001b[0m\u001b[0m\n\u001b[0;32m     15\u001b[0m     \u001b[1;32mdef\u001b[0m \u001b[0mgetBalance\u001b[0m\u001b[1;33m(\u001b[0m\u001b[0mself\u001b[0m\u001b[1;33m)\u001b[0m\u001b[1;33m:\u001b[0m\u001b[1;33m\u001b[0m\u001b[1;33m\u001b[0m\u001b[0m\n\u001b[1;32m---> 16\u001b[1;33m         \u001b[1;32mreturn\u001b[0m \u001b[0mself\u001b[0m\u001b[1;33m.\u001b[0m\u001b[0mtotalBalance\u001b[0m\u001b[1;33m(\u001b[0m\u001b[1;33m)\u001b[0m\u001b[1;33m\u001b[0m\u001b[1;33m\u001b[0m\u001b[0m\n\u001b[0m\u001b[0;32m     17\u001b[0m \u001b[1;33m\u001b[0m\u001b[0m\n\u001b[0;32m     18\u001b[0m \u001b[1;33m\u001b[0m\u001b[0m\n",
      "\u001b[1;31mTypeError\u001b[0m: 'int' object is not callable"
     ]
    }
   ],
   "source": [
    "A=ATM()\n",
    "A.Welcome()\n",
    "    "
   ]
  },
  {
   "cell_type": "code",
   "execution_count": null,
   "metadata": {},
   "outputs": [],
   "source": []
  },
  {
   "cell_type": "code",
   "execution_count": null,
   "metadata": {},
   "outputs": [],
   "source": []
  }
 ],
 "metadata": {
  "kernelspec": {
   "display_name": "Python 3",
   "language": "python",
   "name": "python3"
  },
  "language_info": {
   "codemirror_mode": {
    "name": "ipython",
    "version": 3
   },
   "file_extension": ".py",
   "mimetype": "text/x-python",
   "name": "python",
   "nbconvert_exporter": "python",
   "pygments_lexer": "ipython3",
   "version": "3.7.6"
  }
 },
 "nbformat": 4,
 "nbformat_minor": 4
}
