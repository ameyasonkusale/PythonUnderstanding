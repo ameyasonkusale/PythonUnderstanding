{
 "cells": [
  {
   "cell_type": "markdown",
   "metadata": {},
   "source": [
    "Q1 A shop will give discount of 10% if the cost of purchased quantity is more than 1000.\n",
    "Ask user for quantity\n",
    "Suppose, one unit will cost 100.\n",
    "Judge and print total cost for user."
   ]
  },
  {
   "cell_type": "code",
   "execution_count": 2,
   "metadata": {},
   "outputs": [
    {
     "name": "stdout",
     "output_type": "stream",
     "text": [
      "Enter the quantity in units you want to purchase :20\n",
      "Your total cost is: 2000\n",
      "You have got an 10% discount and your final amount is 1800.0\n"
     ]
    }
   ],
   "source": [
    "\n",
    "quantity = int(input(\"Enter the quantity in units you want to purchase :\"))\n",
    "\n",
    "cost = quantity * 100\n",
    "\n",
    "if cost > 1000:\n",
    "    print(\"Your total cost is:\", quantity * 100)\n",
    "    print(\"You have got an 10% discount and your final amount is\", cost - (cost)* 10/100)\n",
    "    \n",
    "else:\n",
    "    print(\"You are not eligible for any discount and your bill amount is:\", cost)"
   ]
  },
  {
   "cell_type": "markdown",
   "metadata": {},
   "source": [
    "Q2 Accept number from user and calculate the sum of all number between 1 and given number"
   ]
  },
  {
   "cell_type": "code",
   "execution_count": 3,
   "metadata": {},
   "outputs": [
    {
     "name": "stdout",
     "output_type": "stream",
     "text": [
      "Enter a number:5\n",
      "Sum of first 5 numbers is: 15\n"
     ]
    }
   ],
   "source": [
    "#Q2\n",
    "\n",
    "num = int(input(\"Enter a number:\"))\n",
    "\n",
    "sum = 0\n",
    "    \n",
    "if num > 1:\n",
    "    for num in range(1, num + 1):\n",
    "        sum = sum + num\n",
    "print(\"Sum of first\", num, \"numbers is:\",sum)"
   ]
  },
  {
   "cell_type": "markdown",
   "metadata": {},
   "source": [
    "Q3 A student will not be allowed to sit in exam if his/her attendence is less than 75%.\n",
    "Take following input from user\n",
    "Number of classes held\n",
    "Number of classes attended.\n",
    "And print\n",
    "percentage of class attended\n",
    "Is student is allowed to sit in exam or not."
   ]
  },
  {
   "cell_type": "code",
   "execution_count": 4,
   "metadata": {},
   "outputs": [
    {
     "name": "stdout",
     "output_type": "stream",
     "text": [
      "Enter the number of classes held:10\n",
      "Enter the number of classes attended:7\n",
      "Your percentage is 70.0 Thus you are not allowed to sit in exam.\n"
     ]
    }
   ],
   "source": [
    "classes_held = int(input(\"Enter the number of classes held:\"))\n",
    "classes_att = int(input(\"Enter the number of classes attended:\"))\n",
    "\n",
    "percentage = (classes_att / classes_held) * 100\n",
    "\n",
    "if percentage > 75:\n",
    "    print(\"Your percentage is\", percentage, \"Thus you are allowed to sit in exam.\")\n",
    "else:\n",
    "    print(\"Your percentage is\", percentage, \"Thus you are not allowed to sit in exam.\")"
   ]
  },
  {
   "cell_type": "markdown",
   "metadata": {},
   "source": [
    "Q4 Python program to display all the prime numbers within a range"
   ]
  },
  {
   "cell_type": "code",
   "execution_count": 5,
   "metadata": {},
   "outputs": [
    {
     "name": "stdout",
     "output_type": "stream",
     "text": [
      "Enter the lower range:10\n",
      "Enter the upper range:20\n",
      "Prime numbers between 10 and 20 are:\n",
      "11\n",
      "13\n",
      "17\n",
      "19\n"
     ]
    }
   ],
   "source": [
    "lower = int(input(\"Enter the lower range:\"))\n",
    "upper = int(input(\"Enter the upper range:\"))\n",
    "\n",
    "print(\"Prime numbers between\", lower, \"and\", upper, \"are:\")\n",
    "\n",
    "for num in range(lower, upper + 1):\n",
    "    if num > 1:\n",
    "        for i in range(2, num):\n",
    "            if (num % i) == 0:\n",
    "                break\n",
    "        else:\n",
    "           print(num)\n",
    "\n"
   ]
  },
  {
   "cell_type": "markdown",
   "metadata": {},
   "source": [
    "Q5 Print the following pattern using for loop\n",
    "5 4 3 2 1 \n",
    "4 3 2 1 \n",
    "3 2 1 \n",
    "2 1 \n",
    "1"
   ]
  },
  {
   "cell_type": "code",
   "execution_count": 6,
   "metadata": {},
   "outputs": [
    {
     "name": "stdout",
     "output_type": "stream",
     "text": [
      "5 4 3 2 1 \n",
      "4 3 2 1 \n",
      "3 2 1 \n",
      "2 1 \n",
      "1 \n"
     ]
    }
   ],
   "source": [
    "x=5\n",
    "y=5\n",
    "for i in range(0,5):\n",
    "    z=y\n",
    "    for j in range(i,5):\n",
    "        print(z, end=\" \")\n",
    "        z=z-1\n",
    "    y=y-1\n",
    "    print()"
   ]
  },
  {
   "cell_type": "markdown",
   "metadata": {},
   "source": [
    "Q6 Reverse a given integer number\n",
    "Given: 76542"
   ]
  },
  {
   "cell_type": "code",
   "execution_count": 7,
   "metadata": {},
   "outputs": [
    {
     "name": "stdout",
     "output_type": "stream",
     "text": [
      "reverse of the number is: 4321\n"
     ]
    }
   ],
   "source": [
    "q=1234\n",
    "ans=0\n",
    "num=q\n",
    "while(q>0):\n",
    "    r=q%10\n",
    "    q=q//10\n",
    "    ans=ans*10+r\n",
    "print(\"reverse of the number is:\",ans)"
   ]
  },
  {
   "cell_type": "code",
   "execution_count": null,
   "metadata": {},
   "outputs": [],
   "source": []
  }
 ],
 "metadata": {
  "kernelspec": {
   "display_name": "Python 3",
   "language": "python",
   "name": "python3"
  },
  "language_info": {
   "codemirror_mode": {
    "name": "ipython",
    "version": 3
   },
   "file_extension": ".py",
   "mimetype": "text/x-python",
   "name": "python",
   "nbconvert_exporter": "python",
   "pygments_lexer": "ipython3",
   "version": "3.7.6"
  }
 },
 "nbformat": 4,
 "nbformat_minor": 4
}
