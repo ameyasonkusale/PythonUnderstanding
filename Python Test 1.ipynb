{
 "cells": [
  {
   "cell_type": "code",
   "execution_count": 2,
   "metadata": {},
   "outputs": [
    {
     "name": "stdout",
     "output_type": "stream",
     "text": [
      "Enter your current salary:5000\n",
      "Enter Years of service:6\n",
      "Your total salary plus Bonus is =  5250.0 Rs\n"
     ]
    }
   ],
   "source": [
    "#Q2\n",
    "\n",
    "salary = int(input(\"Enter your current salary:\"))\n",
    "\n",
    "service = int(input(\"Enter Years of service:\"))\n",
    "\n",
    "if service > 5:\n",
    "\n",
    "    print('Your total salary plus Bonus is = ',salary + (salary)*5/100,'Rs')\n",
    "\n",
    "else:\n",
    "\n",
    "     print(\"Sorry! you are not given any bonus!\")"
   ]
  },
  {
   "cell_type": "code",
   "execution_count": 3,
   "metadata": {},
   "outputs": [
    {
     "name": "stdout",
     "output_type": "stream",
     "text": [
      "Enter a positive integer:5\n",
      "5 x 1 = 5\n",
      "5 x 2 = 10\n",
      "5 x 3 = 15\n",
      "5 x 4 = 20\n",
      "5 x 5 = 25\n",
      "5 x 6 = 30\n",
      "5 x 7 = 35\n",
      "5 x 8 = 40\n",
      "5 x 9 = 45\n",
      "5 x 10 = 50\n"
     ]
    }
   ],
   "source": [
    "#Q4\n",
    "\n",
    "number = int(input(\"Enter a positive integer:\"))\n",
    "\n",
    "if number > 0:\n",
    "    for i in range(1, 11):\n",
    "       print(number, 'x', i, '=', number * i)\n",
    "else:\n",
    "    print (\"Please enter a positive integer!\")"
   ]
  },
  {
   "cell_type": "code",
   "execution_count": 4,
   "metadata": {},
   "outputs": [
    {
     "name": "stdout",
     "output_type": "stream",
     "text": [
      "Enter the first number = 2\n",
      "Enter the second number = 2\n",
      "2 to the power 2 is = 4\n"
     ]
    }
   ],
   "source": [
    "#Q5\n",
    "\n",
    "num1 = int(input(\"Enter the first number = \"))\n",
    "\n",
    "num2 = int(input(\"Enter the second number = \"))\n",
    "\n",
    "power = num1 ** num2\n",
    "\n",
    "print(num1, 'to the power', num2, 'is =',power)"
   ]
  },
  {
   "cell_type": "code",
   "execution_count": 2,
   "metadata": {},
   "outputs": [
    {
     "name": "stdout",
     "output_type": "stream",
     "text": [
      "Enter your Age:70\n",
      "Enter your Gender:female\n",
      "Person is a senior citizen and 50% of the fare is applicable\n"
     ]
    }
   ],
   "source": [
    "#Q1\n",
    "\n",
    "age = int(input(\"Enter your Age:\"))\n",
    "gender = input(\"Enter your Gender:\")\n",
    "\n",
    "if (gender == 'male'):\n",
    "    if (age >=60):\n",
    "        print(\"Person is a senior citizen and 70% of the fare is applicable\")\n",
    "    elif (age < 60):\n",
    "        print(\"Person is a senior citizen and 100% of the fare is applicable \")\n",
    "    else:\n",
    "        print(\"Invalid\")\n",
    "        \n",
    "if (gender == 'female'):\n",
    "    if (age >= 60):\n",
    "        print(\"Person is a senior citizen and 50% of the fare is applicable\")\n",
    "    elif (age < 60):\n",
    "        print(\"Person is a senior citizen and 70% of the fare is applicable \")\n",
    "    else:\n",
    "        print(\"Invalid\")\n"
   ]
  },
  {
   "cell_type": "code",
   "execution_count": 52,
   "metadata": {},
   "outputs": [
    {
     "name": "stdout",
     "output_type": "stream",
     "text": [
      "    1  \n",
      "   2 2  \n",
      "  3 3 3  \n",
      " 4 4 4 4  \n",
      "5 5 5 5 5  \n"
     ]
    }
   ],
   "source": [
    "#Q6\n",
    "\n",
    "k = 5 - 1\n",
    "for i in range(0, 5):\n",
    "        for j in range(0, k):\n",
    "            print(end=\" \")\n",
    "        k = k - 1\n",
    "        for j in range(0, i+1):\n",
    "            print(i+1, end=\" \")\n",
    "        print(\" \")"
   ]
  },
  {
   "cell_type": "code",
   "execution_count": 56,
   "metadata": {},
   "outputs": [
    {
     "name": "stdout",
     "output_type": "stream",
     "text": [
      "-50 -40 -30 -20 -10 0 10 20 30 40 50 "
     ]
    }
   ],
   "source": [
    "#Q3\n",
    "\n",
    "scale = -50\n",
    "while(scale<=50):\n",
    "    print(scale, end=\" \")\n",
    "    scale = scale + 10"
   ]
  },
  {
   "cell_type": "code",
   "execution_count": null,
   "metadata": {},
   "outputs": [],
   "source": []
  }
 ],
 "metadata": {
  "kernelspec": {
   "display_name": "Python 3",
   "language": "python",
   "name": "python3"
  },
  "language_info": {
   "codemirror_mode": {
    "name": "ipython",
    "version": 3
   },
   "file_extension": ".py",
   "mimetype": "text/x-python",
   "name": "python",
   "nbconvert_exporter": "python",
   "pygments_lexer": "ipython3",
   "version": "3.7.6"
  }
 },
 "nbformat": 4,
 "nbformat_minor": 4
}
