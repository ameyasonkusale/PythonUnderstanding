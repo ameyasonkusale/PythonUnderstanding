{
 "cells": [
  {
   "cell_type": "markdown",
   "metadata": {},
   "source": [
    "# Bubble Sort"
   ]
  },
  {
   "cell_type": "code",
   "execution_count": 3,
   "metadata": {},
   "outputs": [],
   "source": [
    "def Bubble_Sort(list):\n",
    "    n = len(list)\n",
    "    for i in range(0, n-1):\n",
    "        for j in range(0, n-i-1):\n",
    "            if (list[j]>list[j+1]):\n",
    "                temp=list[j]\n",
    "                list[j]=list[j+1]\n",
    "                list[j+1]=temp\n",
    "            print(i,\" \",j,\" \",list)\n",
    "    return(list)"
   ]
  },
  {
   "cell_type": "code",
   "execution_count": 4,
   "metadata": {},
   "outputs": [
    {
     "name": "stdout",
     "output_type": "stream",
     "text": [
      "0   0   [5, 10, 40, 33, 90, 11, 2, 38]\n",
      "0   1   [5, 10, 40, 33, 90, 11, 2, 38]\n",
      "0   2   [5, 10, 33, 40, 90, 11, 2, 38]\n",
      "0   3   [5, 10, 33, 40, 90, 11, 2, 38]\n",
      "0   4   [5, 10, 33, 40, 11, 90, 2, 38]\n",
      "0   5   [5, 10, 33, 40, 11, 2, 90, 38]\n",
      "0   6   [5, 10, 33, 40, 11, 2, 38, 90]\n",
      "1   0   [5, 10, 33, 40, 11, 2, 38, 90]\n",
      "1   1   [5, 10, 33, 40, 11, 2, 38, 90]\n",
      "1   2   [5, 10, 33, 40, 11, 2, 38, 90]\n",
      "1   3   [5, 10, 33, 11, 40, 2, 38, 90]\n",
      "1   4   [5, 10, 33, 11, 2, 40, 38, 90]\n",
      "1   5   [5, 10, 33, 11, 2, 38, 40, 90]\n",
      "2   0   [5, 10, 33, 11, 2, 38, 40, 90]\n",
      "2   1   [5, 10, 33, 11, 2, 38, 40, 90]\n",
      "2   2   [5, 10, 11, 33, 2, 38, 40, 90]\n",
      "2   3   [5, 10, 11, 2, 33, 38, 40, 90]\n",
      "2   4   [5, 10, 11, 2, 33, 38, 40, 90]\n",
      "3   0   [5, 10, 11, 2, 33, 38, 40, 90]\n",
      "3   1   [5, 10, 11, 2, 33, 38, 40, 90]\n",
      "3   2   [5, 10, 2, 11, 33, 38, 40, 90]\n",
      "3   3   [5, 10, 2, 11, 33, 38, 40, 90]\n",
      "4   0   [5, 10, 2, 11, 33, 38, 40, 90]\n",
      "4   1   [5, 2, 10, 11, 33, 38, 40, 90]\n",
      "4   2   [5, 2, 10, 11, 33, 38, 40, 90]\n",
      "5   0   [2, 5, 10, 11, 33, 38, 40, 90]\n",
      "5   1   [2, 5, 10, 11, 33, 38, 40, 90]\n",
      "6   0   [2, 5, 10, 11, 33, 38, 40, 90]\n"
     ]
    },
    {
     "data": {
      "text/plain": [
       "[2, 5, 10, 11, 33, 38, 40, 90]"
      ]
     },
     "execution_count": 4,
     "metadata": {},
     "output_type": "execute_result"
    }
   ],
   "source": [
    "list = [10, 5, 40, 33, 90, 11, 2, 38]\n",
    "Bubble_Sort(list)"
   ]
  },
  {
   "cell_type": "markdown",
   "metadata": {},
   "source": [
    "# Selection Sort"
   ]
  },
  {
   "cell_type": "code",
   "execution_count": 5,
   "metadata": {},
   "outputs": [],
   "source": [
    "def Selection_Sort(list):\n",
    "    for i in range(0, len(list)):\n",
    "        minpos=i\n",
    "        for j in range (i, len(list)):\n",
    "            if(list[j]<list[minpos]):\n",
    "                minpos=j\n",
    "                temp=list[i]\n",
    "                list[i]=list[minpos]\n",
    "                list[minpos]=temp\n",
    "            print(i,\" \",j,\" \",list)\n",
    "    return (list)"
   ]
  },
  {
   "cell_type": "code",
   "execution_count": 6,
   "metadata": {},
   "outputs": [
    {
     "name": "stdout",
     "output_type": "stream",
     "text": [
      "0   0   [5, 4, 3, 2, 1]\n",
      "0   1   [4, 5, 3, 2, 1]\n",
      "0   2   [3, 5, 4, 2, 1]\n",
      "0   3   [2, 5, 4, 3, 1]\n",
      "0   4   [1, 5, 4, 3, 2]\n",
      "1   1   [1, 5, 4, 3, 2]\n",
      "1   2   [1, 4, 5, 3, 2]\n",
      "1   3   [1, 3, 5, 4, 2]\n",
      "1   4   [1, 2, 5, 4, 3]\n",
      "2   2   [1, 2, 5, 4, 3]\n",
      "2   3   [1, 2, 4, 5, 3]\n",
      "2   4   [1, 2, 3, 5, 4]\n",
      "3   3   [1, 2, 3, 5, 4]\n",
      "3   4   [1, 2, 3, 4, 5]\n",
      "4   4   [1, 2, 3, 4, 5]\n"
     ]
    },
    {
     "data": {
      "text/plain": [
       "[1, 2, 3, 4, 5]"
      ]
     },
     "execution_count": 6,
     "metadata": {},
     "output_type": "execute_result"
    }
   ],
   "source": [
    "list = [5,4,3,2,1]\n",
    "Selection_Sort(list) "
   ]
  },
  {
   "cell_type": "markdown",
   "metadata": {},
   "source": [
    "# Insertion Sort "
   ]
  },
  {
   "cell_type": "code",
   "execution_count": 7,
   "metadata": {},
   "outputs": [],
   "source": [
    "def Insertion_Sort(list):\n",
    "    for right in range(0, len(list)):\n",
    "        value=list[right]\n",
    "        left=right-1\n",
    "        while(left>=0):\n",
    "            if(value<list[left]):\n",
    "                list[left+1]=list[left]\n",
    "                list[left]=value\n",
    "                left=left-1\n",
    "            else:\n",
    "                break\n",
    "    print(list)"
   ]
  },
  {
   "cell_type": "code",
   "execution_count": 8,
   "metadata": {},
   "outputs": [
    {
     "name": "stdout",
     "output_type": "stream",
     "text": [
      "[0, 1, 2, 4, 6]\n"
     ]
    }
   ],
   "source": [
    "list = [2,4,1,0,6]\n",
    "Insertion_Sort(list)"
   ]
  },
  {
   "cell_type": "markdown",
   "metadata": {},
   "source": [
    "# Merge Sort"
   ]
  },
  {
   "cell_type": "code",
   "execution_count": 11,
   "metadata": {},
   "outputs": [],
   "source": [
    "def merge_sort(mylist):\n",
    "  \n",
    "    if len(mylist)>1:\n",
    "        mid = len(mylist)//2\n",
    "        leftList = mylist[:mid]\n",
    "        rightList = mylist[mid:]\n",
    "        merge_sort(leftList)\n",
    "        merge_sort(rightList)\n",
    "        i=j=k=0\n",
    "        while i <len(leftList) and j < len(rightList):\n",
    "\n",
    "            if(leftList[i]<rightList[j]):\n",
    "                mylist[k] = leftList[i]\n",
    "           \n",
    "                i=i+1\n",
    "                k=k+1\n",
    "            else:\n",
    "                mylist[k] = rightList[j]\n",
    "\n",
    "                j=j+1\n",
    "                k = k+1\n",
    "        while i <len(leftList):\n",
    "\n",
    "            mylist[k] = leftList[i]\n",
    "            i = i+1\n",
    "            k=k+1\n",
    "\n",
    "\n",
    "        while j <len(rightList):\n",
    "            mylist[k] = rightList[j]\n",
    "            j=j+1\n",
    "            k=k+1\n",
    "    print(mylist)"
   ]
  },
  {
   "cell_type": "code",
   "execution_count": 12,
   "metadata": {},
   "outputs": [
    {
     "name": "stdout",
     "output_type": "stream",
     "text": [
      "[45]\n",
      "[23]\n",
      "[78]\n",
      "[23, 78]\n",
      "[23, 45, 78]\n",
      "[42]\n",
      "[90]\n",
      "[42, 90]\n",
      "[19]\n",
      "[77]\n",
      "[19, 77]\n",
      "[19, 42, 77, 90]\n",
      "[19, 23, 42, 45, 77, 78, 90]\n"
     ]
    }
   ],
   "source": [
    "mylist = [45,23,78,42,90,19,77]\n",
    "merge_sort(mylist)"
   ]
  },
  {
   "cell_type": "markdown",
   "metadata": {},
   "source": [
    "# Divide and Conqurer"
   ]
  },
  {
   "cell_type": "code",
   "execution_count": 13,
   "metadata": {},
   "outputs": [],
   "source": [
    "def sort(list1):\n",
    "    l1=len(list1)\n",
    "    for i in range(0,l1):\n",
    "        minpos=i\n",
    "        for j in range(i+1,l1):\n",
    "            if(list1[j]<list1[minpos]):\n",
    "                minpos=j\n",
    "        temp=list1[i]\n",
    "        list1[i]=list1[minpos]\n",
    "        list1[minpos]=temp"
   ]
  },
  {
   "cell_type": "code",
   "execution_count": 14,
   "metadata": {},
   "outputs": [
    {
     "name": "stdout",
     "output_type": "stream",
     "text": [
      "given list [5, 7, 2, 1, 9, 6]\n",
      "lenght of list1 6\n",
      "sorted list [1, 2, 5, 6, 7, 9]\n",
      "middle value of list is : 6\n",
      "9 is present in list\n"
     ]
    }
   ],
   "source": [
    "list1=[5,7,2,1,9,6]\n",
    "d=9\n",
    "print(\"given list\",list1)\n",
    "l1=len(list1)\n",
    "print(\"lenght of list1\",l1)\n",
    "\n",
    "for i in range(l1):\n",
    "    sort(list1)\n",
    "print(\"sorted list\",list1)\n",
    "m=l1//2\n",
    "print(\"middle value of list is :\",list1[m])\n",
    "l2=list1[m]\n",
    "if(d<list1[m]):\n",
    "    l2=list1[m]\n",
    "for k in range(0,l2):\n",
    "    if(list1[k]==d):\n",
    "        print(list1[k],\"is present in list\")\n",
    "else:\n",
    "    for a in range(l2,l1):\n",
    "        if(list1[a]==d):\n",
    "            print(list1[a],\" is present in list\")"
   ]
  },
  {
   "cell_type": "markdown",
   "metadata": {},
   "source": [
    "# Quick Sort"
   ]
  },
  {
   "cell_type": "code",
   "execution_count": 15,
   "metadata": {},
   "outputs": [
    {
     "name": "stdout",
     "output_type": "stream",
     "text": [
      "[18, 42, 5, 22, 54, 6, 29, 3, 13]\n",
      "[18, 5, 42, 22, 54, 6, 29, 3, 13]\n",
      "[18, 5, 6, 22, 54, 42, 29, 3, 13]\n",
      "[18, 5, 6, 3, 54, 42, 29, 22, 13]\n",
      "[18, 5, 6, 3, 13, 42, 29, 22, 54]\n",
      "[18, 5, 6, 3, 13, 42, 29, 22, 54]\n",
      "[18, 5, 6, 3, 13, 42, 29, 22, 54]\n",
      "[18, 5, 6, 3, 13, 42, 29, 22, 54]\n",
      "[18, 5, 6, 3, 13, 42, 29, 22, 54]\n",
      "[3, 5, 6, 13, 18, 22, 29, 42, 54]\n"
     ]
    }
   ],
   "source": [
    "a=[18,42,5,22,54,6,29,3,13]\n",
    "p=a[0]\n",
    "t0=p\n",
    "b=a[1]\n",
    "m=a[len(a)//2]\n",
    "t=1\n",
    "for x in range (0,len(a)):\n",
    "    if(b==a[x]):\n",
    "        c=x+1\n",
    "        while(c<len(a)):\n",
    "            if(p>a[c]):\n",
    "                t=a[x]\n",
    "                a[x]=a[c]\n",
    "                a[c]=t\n",
    "                b=a[x+1]\n",
    "                break\n",
    "            else:\n",
    "                c=c+1           \n",
    "    print(a)\n",
    "t=a[0]\n",
    "a[0]=a[len(a)//2]\n",
    "a[len(a)//2]=t\n",
    "m=len(a)//2\n",
    "b1=a[:m]\n",
    "c1=a[m+1:]\n",
    "b=b1[0]\n",
    "p=b1[(len(b1)//2)-1]\n",
    "for x in range (0,len(b1)):\n",
    "    if(b==b1[x]):\n",
    "        c=x+1\n",
    "        while(c<len(b1)):\n",
    "            if(p>b1[c]):\n",
    "                t=b1[x]\n",
    "                b1[x]=b1[c]\n",
    "                b1[c]=t\n",
    "                b=b1[x+1]\n",
    "                break\n",
    "            else:\n",
    "                c=c+1              \n",
    "b=c1[0]\n",
    "p=c1[(len(c1)//2)-1]\n",
    "for x in range (0,len(c1)):\n",
    "    if(b==c1[x]):\n",
    "        c=x+1\n",
    "        while(c<len(c1)):\n",
    "            if(p>c1[c]):\n",
    "                t=c1[x]\n",
    "                c1[x]=c1[c]\n",
    "                c1[c]=t\n",
    "                b=c1[x+1]\n",
    "                break\n",
    "            else:\n",
    "                c=c+1 \n",
    "a.clear()\n",
    "for x in range (0,len(b1)):\n",
    "    a.append(b1[x])\n",
    "a.append(t0)\n",
    "for x in range (0,len(c1)):\n",
    "    a.append(c1[x])\n",
    "print(a)"
   ]
  },
  {
   "cell_type": "markdown",
   "metadata": {},
   "source": [
    "# Heap-Sort"
   ]
  },
  {
   "cell_type": "code",
   "execution_count": null,
   "metadata": {},
   "outputs": [],
   "source": [
    "def heapify(list,length,index):\n",
    "    largest = index\n",
    "    left = (2 * index)+ 1\n",
    "    right =(2 * index)+ 2\n",
    "if(left <= length and list[index]<list[left]):\n",
    "    largest = left\n",
    "if(right <= length and list[largest]< list[right]):\n",
    "    largest=right\n",
    "if (length != index):\n",
    "    list[index][0]=(list[0], list[index])\n",
    "    \n",
    "    heapify(list, length, largest)\n",
    "    temp = list[index]\n",
    "    list[index]= list[0]"
   ]
  },
  {
   "cell_type": "code",
   "execution_count": null,
   "metadata": {},
   "outputs": [],
   "source": [
    "def heapSort(list):\n",
    "    length = len(list)\n",
    "    n = (length//2)-1\n",
    "    for i in range(n,-1,-1):\n",
    "        heapify(list,length,i)\n",
    "    for i in range(list,length,0):\n",
    "heapSort(list)"
   ]
  },
  {
   "cell_type": "code",
   "execution_count": 12,
   "metadata": {},
   "outputs": [],
   "source": [
    "class Menu:\n",
    "    def __init__(self, name):\n",
    "        print(\"Hello\", name)\n",
    "        \n",
    "    def PrintMyName(self):\n",
    "        print(\"Hello world\")\n",
    "        "
   ]
  },
  {
   "cell_type": "code",
   "execution_count": 13,
   "metadata": {},
   "outputs": [
    {
     "name": "stdout",
     "output_type": "stream",
     "text": [
      "Hello kumar\n",
      "Hello world\n"
     ]
    }
   ],
   "source": [
    "M = Menu(\"kumar\")\n",
    "M.PrintMyName()"
   ]
  },
  {
   "cell_type": "code",
   "execution_count": null,
   "metadata": {},
   "outputs": [],
   "source": []
  }
 ],
 "metadata": {
  "kernelspec": {
   "display_name": "Python 3",
   "language": "python",
   "name": "python3"
  },
  "language_info": {
   "codemirror_mode": {
    "name": "ipython",
    "version": 3
   },
   "file_extension": ".py",
   "mimetype": "text/x-python",
   "name": "python",
   "nbconvert_exporter": "python",
   "pygments_lexer": "ipython3",
   "version": "3.7.6"
  }
 },
 "nbformat": 4,
 "nbformat_minor": 4
}
