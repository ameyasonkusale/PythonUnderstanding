{
 "cells": [
  {
   "cell_type": "markdown",
   "metadata": {},
   "source": [
    "1.write a python program to get unique values from list."
   ]
  },
  {
   "cell_type": "code",
   "execution_count": 1,
   "metadata": {},
   "outputs": [
    {
     "name": "stdout",
     "output_type": "stream",
     "text": [
      "unique value  [2]\n"
     ]
    }
   ],
   "source": [
    "list = [1,1,1,1,2,1,1,1]\n",
    "lengthoflist = len(list)\n",
    "count = 0\n",
    "list2 = []\n",
    "for i in range(0, lengthoflist):\n",
    "    count = 0\n",
    "    for j in range(0,lengthoflist):\n",
    "        if(list[i] == list[j]):\n",
    "            count = count+1\n",
    "    if(count<2):\n",
    "        list2.append(list[i])\n",
    "\n",
    "print(\"unique value \", list2)"
   ]
  },
  {
   "cell_type": "markdown",
   "metadata": {},
   "source": [
    "2.write a python program to find common element from list."
   ]
  },
  {
   "cell_type": "code",
   "execution_count": 10,
   "metadata": {},
   "outputs": [
    {
     "name": "stdout",
     "output_type": "stream",
     "text": [
      "The common elements are 3\n",
      " the new list is [2, 4, 6]\n"
     ]
    }
   ],
   "source": [
    "a=[1,2,3,4,5,6,7]\n",
    "b=[2,4,6]\n",
    "l=[]\n",
    "list1=len(a)\n",
    "list2=len(b)\n",
    "c=0\n",
    "for x in range(0,list1):\n",
    "    for y in range(0,list2):\n",
    "        if(a[x]==b[y]):\n",
    "            c=c+1\n",
    "            l.append(b[y])\n",
    "if(c>>0):\n",
    "    print(\"The common elements are\",c)\n",
    "    print(\" the new list is\", l)\n",
    "else:\n",
    "    print(\"no\")\n",
    "        "
   ]
  },
  {
   "cell_type": "markdown",
   "metadata": {},
   "source": [
    " 3.write a python program to find missing and additional values two list.\n"
   ]
  },
  {
   "cell_type": "code",
   "execution_count": 9,
   "metadata": {},
   "outputs": [
    {
     "name": "stdout",
     "output_type": "stream",
     "text": [
      "missing element in list 2 :  [1, 2, 3]\n",
      "common element : [4, 5, 6]\n",
      "additional element in list2 : [7, 8]\n"
     ]
    }
   ],
   "source": [
    "list1=[1,2,3,4,5,6]\n",
    "list2=[4,5,6,7,8]\n",
    "list3=[]\n",
    "list4=[]\n",
    "list5=[]\n",
    "length1=len(list1)\n",
    "length2=len(list2)\n",
    "for i in range(0,length1):\n",
    "    c=0\n",
    "    for j in range(0,length2):\n",
    "        \n",
    "        if(list1[i]!=list2[j]):\n",
    "            c=c+1\n",
    "        else:\n",
    "            list4.append(list2[j])\n",
    "            break\n",
    "    if(c==length2):        \n",
    "        list3.append(list1[i])    \n",
    "\n",
    "for i in range(0,length2):\n",
    "    c=0\n",
    "    for j in range(0,length1):\n",
    "        \n",
    "        if(list2[i]!=list1[j]):\n",
    "            c=c+1\n",
    "        else:\n",
    "            break\n",
    "    if(c==length1):        \n",
    "        list5.append(list2[i])    \n",
    "\n",
    "print(\"missing element in list 2 : \",list3)\n",
    "print(\"common element :\",list4)\n",
    "print(\"additional element in list2 :\",list5)"
   ]
  },
  {
   "cell_type": "markdown",
   "metadata": {},
   "source": [
    "4.write a python program to insert hello after each integer element in a list."
   ]
  },
  {
   "cell_type": "code",
   "execution_count": 6,
   "metadata": {},
   "outputs": [
    {
     "name": "stdout",
     "output_type": "stream",
     "text": [
      "10 hello 20 hello 30 hello 40 hello 50 hello "
     ]
    }
   ],
   "source": [
    "list=[10,20,30,40,50]\n",
    "lenghtoflist=len(list)\n",
    "for i in range(0, lenghtoflist):\n",
    "    print(list[i], end = \" hello \")\n"
   ]
  },
  {
   "cell_type": "markdown",
   "metadata": {},
   "source": [
    "5.write a python program to replace the last element in list with another list.\n"
   ]
  },
  {
   "cell_type": "code",
   "execution_count": 4,
   "metadata": {},
   "outputs": [
    {
     "name": "stdout",
     "output_type": "stream",
     "text": [
      "[1, 3, 5, 7, 9, 2, 4, 6, 8]\n"
     ]
    }
   ],
   "source": [
    "num1 = [1,3,5,7,9,10]\n",
    "num2 = [2,4,6,8]\n",
    "num1[-1:] = num2\n",
    "print(num1)"
   ]
  },
  {
   "cell_type": "markdown",
   "metadata": {},
   "source": [
    "6.write a python program to move all zero digits to end of a givenlist of numbers.\n"
   ]
  },
  {
   "cell_type": "code",
   "execution_count": 11,
   "metadata": {},
   "outputs": [
    {
     "name": "stdout",
     "output_type": "stream",
     "text": [
      "3 4 6 2 6 7 6 7 9 10 7 4 4 2 9 1 0 0 0 0 0 0 0 0 0 0 0 0 "
     ]
    }
   ],
   "source": [
    "nums = [3,4,0,0,0,6,2,0,0,6,7,6,0,0,0,7,9,10,0,0,7,4,4,0,0,2,9,1]\n",
    "lengthofnums = len(nums)\n",
    "k = 0\n",
    "for i in range(0, lengthofnums):\n",
    "    if(nums[i]>0):\n",
    "        nums[k]=nums[i]\n",
    "        k+=1\n",
    "        print(nums[i],end = \" \")\n",
    "for j in range(k,lengthofnums):       \n",
    "    nums[j]=0\n",
    "    print(nums[j] ,end = \" \")"
   ]
  },
  {
   "cell_type": "markdown",
   "metadata": {},
   "source": [
    "7.write a python program to list in a list of lists whose sum of element is heighest ."
   ]
  },
  {
   "cell_type": "code",
   "execution_count": 5,
   "metadata": {},
   "outputs": [
    {
     "name": "stdout",
     "output_type": "stream",
     "text": [
      "[10, 11, 12] has the greatest sum of elements\n"
     ]
    }
   ],
   "source": [
    "num=[[1,2,3],[4,5,6],[10,11,12],[7,8,9]]\n",
    "num1=[]\n",
    "l=len(num)\n",
    "for x in range(0,l):\n",
    "    l1=len(num[x])\n",
    "    c=0\n",
    "    for y in range(0,l1):\n",
    "        c=c+num[x][y]\n",
    "    num1.append(c)\n",
    "m=-9**100\n",
    "for x in range(0,l):\n",
    "    if(num1[x]>m):\n",
    "        m=num1[x]\n",
    "c=0        \n",
    "while(c<4):\n",
    "    if(num1[c]==m):\n",
    "        print(num[c],'has the greatest sum of elements')\n",
    "    c=c+1    "
   ]
  },
  {
   "cell_type": "markdown",
   "metadata": {},
   "source": [
    "8.write a python program to remove duplicates from a list of lists .\n"
   ]
  },
  {
   "cell_type": "code",
   "execution_count": 91,
   "metadata": {},
   "outputs": [
    {
     "name": "stdout",
     "output_type": "stream",
     "text": [
      "[[10, 20], [40], [30, 56, 25], [10, 20], [33], [40]]\n",
      "list with duplicate items removed is [[10, 20], [40], [30, 56, 25], [33]]\n"
     ]
    }
   ],
   "source": [
    "a=[[10,20],[40],[30,56,25],[10,20],[33],[40]]\n",
    "b=[]\n",
    "l=len(a)\n",
    "print(a)\n",
    "for x in range(0,l):\n",
    "    c=0\n",
    "    for y in range(0,l):\n",
    "        if(y==l-1 and x>=y):\n",
    "            c=c+1\n",
    "        elif(x>=y and a[x]==a[y]):\n",
    "            c=c+1\n",
    "    if(c==1):    \n",
    "            b.append(a[x])       \n",
    "print('List with duplicate items removed is',b)     "
   ]
  },
  {
   "cell_type": "markdown",
   "metadata": {},
   "source": [
    "9.write a python program to insert an element at aspecified position in to given list."
   ]
  },
  {
   "cell_type": "code",
   "execution_count": 15,
   "metadata": {},
   "outputs": [
    {
     "name": "stdout",
     "output_type": "stream",
     "text": [
      "[1, 2, 3, 4, 10, 5]\n"
     ]
    }
   ],
   "source": [
    "num=[1,2,3,4,5]\n",
    "lenofnum=len(num)\n",
    "n=10\n",
    "for i in range(0,lenofnum):\n",
    "    if(num[i]>n):\n",
    "        break\n",
    "num=num[:i]+[n]+num[i:]\n",
    "print(num)    "
   ]
  },
  {
   "cell_type": "markdown",
   "metadata": {},
   "source": [
    "10.write a python program to round every number of a given list of numbers and print the total sum multiplied by the lenght of list ."
   ]
  },
  {
   "cell_type": "code",
   "execution_count": 21,
   "metadata": {},
   "outputs": [
    {
     "name": "stdout",
     "output_type": "stream",
     "text": [
      "sum of elements in list :  55\n",
      "550\n"
     ]
    }
   ],
   "source": [
    "list=[1,2,3,4,5,6,7,8,9,10]\n",
    "lenoflist=len(list)\n",
    "sum = 0\n",
    "multi = 1\n",
    "\n",
    "for i in range(0,lenoflist):\n",
    "    sum = sum + list[i]\n",
    "    multi = sum * lenoflist\n",
    "print(\"sum of elements in list : \", sum)  \n",
    "print(multi)\n"
   ]
  },
  {
   "cell_type": "markdown",
   "metadata": {},
   "source": [
    "11.write a python program to calculate the product of the unique numbers of given list."
   ]
  },
  {
   "cell_type": "code",
   "execution_count": 24,
   "metadata": {},
   "outputs": [
    {
     "name": "stdout",
     "output_type": "stream",
     "text": [
      "unique value  [10, 60, 50]\n",
      "30000\n"
     ]
    }
   ],
   "source": [
    "list=[10,20,30,40,20,60,50,40,20,30]\n",
    "lengthoflist=len(list)\n",
    "count=0\n",
    "mult=1\n",
    "list2=[]\n",
    "for i in range(0,lengthoflist):\n",
    "    count=0\n",
    "    for j in range(0,lengthoflist):\n",
    "        if(list[i]==list[j]):\n",
    "            count=count+1\n",
    "    if(count<2):\n",
    "        list2.append(list[i])\n",
    "print(\"unique value \",list2)\n",
    "lofl2=len(list2)\n",
    "for j in range(0,lofl2):\n",
    "    mult=mult*list2[j]\n",
    "print(mult)    "
   ]
  },
  {
   "cell_type": "markdown",
   "metadata": {},
   "source": [
    "12.Write a Python program to count the frequency of consecutive duplicate elements in a given list of numbers"
   ]
  },
  {
   "cell_type": "code",
   "execution_count": 28,
   "metadata": {},
   "outputs": [
    {
     "name": "stdout",
     "output_type": "stream",
     "text": [
      "duplicate elements are [3, 5] which repeated [4, 2] times\n"
     ]
    }
   ],
   "source": [
    "a=[1,2,3,3,3,3,4,5,5,6,7]\n",
    "l=len(a)\n",
    "b=[]\n",
    "c1=[]\n",
    "for x in range (0,l):\n",
    "    c=0\n",
    "    if(a[x]==a[x-1]):\n",
    "        continue\n",
    "    for y in range (0,l):\n",
    "        if(a[x]==a[y]):\n",
    "            c=c+1        \n",
    "    if(c>1):\n",
    "        b.append(a[x]) \n",
    "        c1.append(c)\n",
    "l1=len(b)\n",
    "if(l1==0):\n",
    "    print('list has no common elements')\n",
    "else:\n",
    "    print('duplicate elements are',b,'which repeated',c1,'times')"
   ]
  },
  {
   "cell_type": "markdown",
   "metadata": {},
   "source": [
    "13. Write a Python program to find all index positions of the maximum and minimum values in a given list of numbers."
   ]
  },
  {
   "cell_type": "code",
   "execution_count": 34,
   "metadata": {},
   "outputs": [
    {
     "name": "stdout",
     "output_type": "stream",
     "text": [
      "Max value is 5 and its index value is  4\n",
      "Min value is 1 and its index value is  0\n"
     ]
    }
   ],
   "source": [
    "num = [1,2,3,4,5]\n",
    "max=0\n",
    "min=5\n",
    "length = len(num)\n",
    "for i in range(0,length):\n",
    "    if(max<num[i]):\n",
    "        max=num[i]\n",
    "        x=i\n",
    "\n",
    "print(\"Max value is\",max,\"and its index value is \",x)\n",
    "\n",
    "for j in range(0,length):\n",
    "    if(min>num[j]):\n",
    "        min = num[j]\n",
    "        y=j\n",
    "\n",
    "print(\"Min value is\",min,\"and its index value is \",y)       "
   ]
  },
  {
   "cell_type": "markdown",
   "metadata": {},
   "source": [
    "14.Write a python program to compute the sum of digits of each number given list."
   ]
  },
  {
   "cell_type": "code",
   "execution_count": 31,
   "metadata": {},
   "outputs": [
    {
     "name": "stdout",
     "output_type": "stream",
     "text": [
      "[123, 145, 1111, 1777, 1456, 3876]\n",
      "the sum of digits of each element is [6, 10, 4, 22, 16, 24]\n"
     ]
    }
   ],
   "source": [
    "num=[123,145,1111,1777,1456,3876]\n",
    "print(num)\n",
    "num2=[]\n",
    "l=len(num)\n",
    "for x in range (0,l):\n",
    "    c=0\n",
    "    while(num[x]>0):\n",
    "        r=num[x]%10\n",
    "        num[x]=num[x]//10\n",
    "        c=c+r\n",
    "    num2.append(c)    \n",
    "print('the sum of digits of each element is',num2)    "
   ]
  },
  {
   "cell_type": "code",
   "execution_count": null,
   "metadata": {},
   "outputs": [],
   "source": []
  }
 ],
 "metadata": {
  "kernelspec": {
   "display_name": "Python 3",
   "language": "python",
   "name": "python3"
  },
  "language_info": {
   "codemirror_mode": {
    "name": "ipython",
    "version": 3
   },
   "file_extension": ".py",
   "mimetype": "text/x-python",
   "name": "python",
   "nbconvert_exporter": "python",
   "pygments_lexer": "ipython3",
   "version": "3.8.5"
  }
 },
 "nbformat": 4,
 "nbformat_minor": 4
}
