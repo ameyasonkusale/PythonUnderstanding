{
 "cells": [
  {
   "cell_type": "markdown",
   "metadata": {},
   "source": [
    "Ameya Sonkusale"
   ]
  },
  {
   "cell_type": "markdown",
   "metadata": {},
   "source": [
    "Q1 Write python program to remove duplicate value from a list."
   ]
  },
  {
   "cell_type": "code",
   "execution_count": 18,
   "metadata": {},
   "outputs": [
    {
     "name": "stdout",
     "output_type": "stream",
     "text": [
      "Initial list = [1, 2, 2, 3, 4, 4, 5, 5, 6]\n",
      "After removing duplicate value from the list = [1, 2, 3, 4, 5, 6]\n"
     ]
    }
   ],
   "source": [
    "list1=[1,2,2,3,4,4,5,5,6]\n",
    "list2=[]\n",
    "print(\"Initial list =\",list1)\n",
    "for i in list1:\n",
    "    if i not in list2:\n",
    "        list2.append(i)\n",
    "list1=list2\n",
    "print(\"After removing duplicate value from the list =\",list1)\n"
   ]
  },
  {
   "cell_type": "markdown",
   "metadata": {},
   "source": [
    "Q2 Write python program to check a list is empty or not."
   ]
  },
  {
   "cell_type": "code",
   "execution_count": 19,
   "metadata": {},
   "outputs": [],
   "source": [
    "def checklist():\n",
    "    if len(list1):\n",
    "        print(\"List contains values\")\n",
    "    else:\n",
    "        print(\"List is empty\")"
   ]
  },
  {
   "cell_type": "code",
   "execution_count": 20,
   "metadata": {},
   "outputs": [
    {
     "name": "stdout",
     "output_type": "stream",
     "text": [
      "List contains values\n"
     ]
    }
   ],
   "source": [
    "list1=[1,2,3,4]\n",
    "checklist()"
   ]
  },
  {
   "cell_type": "markdown",
   "metadata": {},
   "source": [
    "Q3 Find common element from 2 lists and insert in third list(common list) and print it."
   ]
  },
  {
   "cell_type": "code",
   "execution_count": 21,
   "metadata": {},
   "outputs": [],
   "source": [
    "def common_element(list1, list2):\n",
    "    for i in list1:\n",
    "        if i in list2:\n",
    "            return i\n",
    "            \n",
    "            "
   ]
  },
  {
   "cell_type": "code",
   "execution_count": 22,
   "metadata": {},
   "outputs": [
    {
     "name": "stdout",
     "output_type": "stream",
     "text": [
      "[20]\n"
     ]
    }
   ],
   "source": [
    "list1=[10, 20, 30, 40, 50]\n",
    "list2=[11, 20, 30, 44, 55]\n",
    "common_list=[common_element(list1,list2)]\n",
    "print(common_list)\n",
    "     \n"
   ]
  },
  {
   "cell_type": "markdown",
   "metadata": {},
   "source": [
    "Q4 Use Bubble sort to sort the list."
   ]
  },
  {
   "cell_type": "code",
   "execution_count": 23,
   "metadata": {},
   "outputs": [],
   "source": [
    "def Bubble_Sort(list):\n",
    "    temp=0\n",
    "    n =len(list)\n",
    "    for i in range(0,n-1):\n",
    "        for j in range(0,n-i-1):\n",
    "            if (list[j]>list[j+1]):\n",
    "                temp=list[j]\n",
    "                list[j]=list[j+1]\n",
    "                list[j+1]=temp\n",
    "            print(i,\" \",j,\" \",list)\n",
    "    return(list)"
   ]
  },
  {
   "cell_type": "code",
   "execution_count": 24,
   "metadata": {},
   "outputs": [
    {
     "name": "stdout",
     "output_type": "stream",
     "text": [
      "0   0   [4, 7, 6, 2, 1, 8, 9, 3]\n",
      "0   1   [4, 6, 7, 2, 1, 8, 9, 3]\n",
      "0   2   [4, 6, 2, 7, 1, 8, 9, 3]\n",
      "0   3   [4, 6, 2, 1, 7, 8, 9, 3]\n",
      "0   4   [4, 6, 2, 1, 7, 8, 9, 3]\n",
      "0   5   [4, 6, 2, 1, 7, 8, 9, 3]\n",
      "0   6   [4, 6, 2, 1, 7, 8, 3, 9]\n",
      "1   0   [4, 6, 2, 1, 7, 8, 3, 9]\n",
      "1   1   [4, 2, 6, 1, 7, 8, 3, 9]\n",
      "1   2   [4, 2, 1, 6, 7, 8, 3, 9]\n",
      "1   3   [4, 2, 1, 6, 7, 8, 3, 9]\n",
      "1   4   [4, 2, 1, 6, 7, 8, 3, 9]\n",
      "1   5   [4, 2, 1, 6, 7, 3, 8, 9]\n",
      "2   0   [2, 4, 1, 6, 7, 3, 8, 9]\n",
      "2   1   [2, 1, 4, 6, 7, 3, 8, 9]\n",
      "2   2   [2, 1, 4, 6, 7, 3, 8, 9]\n",
      "2   3   [2, 1, 4, 6, 7, 3, 8, 9]\n",
      "2   4   [2, 1, 4, 6, 3, 7, 8, 9]\n",
      "3   0   [1, 2, 4, 6, 3, 7, 8, 9]\n",
      "3   1   [1, 2, 4, 6, 3, 7, 8, 9]\n",
      "3   2   [1, 2, 4, 6, 3, 7, 8, 9]\n",
      "3   3   [1, 2, 4, 3, 6, 7, 8, 9]\n",
      "4   0   [1, 2, 4, 3, 6, 7, 8, 9]\n",
      "4   1   [1, 2, 4, 3, 6, 7, 8, 9]\n",
      "4   2   [1, 2, 3, 4, 6, 7, 8, 9]\n",
      "5   0   [1, 2, 3, 4, 6, 7, 8, 9]\n",
      "5   1   [1, 2, 3, 4, 6, 7, 8, 9]\n",
      "6   0   [1, 2, 3, 4, 6, 7, 8, 9]\n"
     ]
    },
    {
     "data": {
      "text/plain": [
       "[1, 2, 3, 4, 6, 7, 8, 9]"
      ]
     },
     "execution_count": 24,
     "metadata": {},
     "output_type": "execute_result"
    }
   ],
   "source": [
    "list=[7,4,6,2,1,8,9,3]\n",
    "\n",
    "Bubble_Sort(list)"
   ]
  },
  {
   "cell_type": "markdown",
   "metadata": {},
   "source": [
    "Q5 Mylist = [[11,22,33], [55,66,77,88]] print the given list using for loop."
   ]
  },
  {
   "cell_type": "code",
   "execution_count": 25,
   "metadata": {},
   "outputs": [
    {
     "name": "stdout",
     "output_type": "stream",
     "text": [
      "[[11, 22, 33], [55, 66, 77, 88]]\n"
     ]
    }
   ],
   "source": [
    "list1=[[11,22,33]]\n",
    "list2=[[55,66,77,88]]\n",
    "MyList=[]\n",
    "for i in list2:\n",
    "    list1.append(i)\n",
    "    MyList=list1\n",
    "print(MyList)    "
   ]
  },
  {
   "cell_type": "code",
   "execution_count": null,
   "metadata": {},
   "outputs": [],
   "source": []
  }
 ],
 "metadata": {
  "kernelspec": {
   "display_name": "Python 3",
   "language": "python",
   "name": "python3"
  },
  "language_info": {
   "codemirror_mode": {
    "name": "ipython",
    "version": 3
   },
   "file_extension": ".py",
   "mimetype": "text/x-python",
   "name": "python",
   "nbconvert_exporter": "python",
   "pygments_lexer": "ipython3",
   "version": "3.8.5"
  }
 },
 "nbformat": 4,
 "nbformat_minor": 4
}
