{
 "cells": [
  {
   "cell_type": "code",
   "execution_count": 1,
   "metadata": {},
   "outputs": [],
   "source": [
    "class Balance():\n",
    "    \n",
    "    totalBalance = 10000\n",
    "    \n",
    "    def updateBalance(self,amt,opt):\n",
    "        global totalBalance\n",
    "        \n",
    "        if(opt==1):\n",
    "            self.totalBalance -= amt\n",
    "            print(\"The Amount after withdrawl \",self.totalBalance)\n",
    "            print(\" \")\n",
    "            \n",
    "        elif(opt==2):\n",
    "            self.totalBalance += amt\n",
    "            print(\"The Amount after deposit \",self.totalBalance)\n",
    "            print(\" \")\n",
    "            \n",
    "        else:\n",
    "            print('Wrong Choice')\n",
    "            print(\" \")\n",
    "            \n",
    "    def getBalance(self):\n",
    "        return self.totalBalance\n",
    "    "
   ]
  },
  {
   "cell_type": "code",
   "execution_count": 2,
   "metadata": {},
   "outputs": [],
   "source": [
    "class Withdraw():\n",
    "    B1 = Balance()\n",
    "    def getwithdraw(self,amt,opt):\n",
    "        self.B1.updateBalance(amt,opt)"
   ]
  },
  {
   "cell_type": "code",
   "execution_count": 3,
   "metadata": {},
   "outputs": [],
   "source": [
    "class Deposit():\n",
    "    B = Balance()\n",
    "    def getdeposite(self,amt,opt):\n",
    "        self.B.updateBalance(amt,opt)"
   ]
  },
  {
   "cell_type": "code",
   "execution_count": 4,
   "metadata": {},
   "outputs": [],
   "source": [
    "class Changepin():\n",
    "    pin=1111\n",
    "    def getpin(self):\n",
    "        return self.pin\n",
    "    def updatepin(self,npin,opt):\n",
    "        pin=npin\n",
    "        print(\"The Pin is changed Succesfully\")\n",
    "        print(\" \")"
   ]
  },
  {
   "cell_type": "code",
   "execution_count": 5,
   "metadata": {},
   "outputs": [],
   "source": [
    "class Options():\n",
    "    W = Withdraw()\n",
    "    D = Deposit()\n",
    "    B = Balance()\n",
    "    cp=Changepin()\n",
    "    \n",
    "    def GetOption(self):\n",
    "        print(\" \")\n",
    "        pro = int(input(\"Enter 1 to Proceed \"))\n",
    "        print(\" \")  \n",
    "        \n",
    "        while(pro == 1):\n",
    "            opt=int(input(\"Select any one from Options \"))\n",
    "            print(\" \")\n",
    "            \n",
    "            if(opt==1):\n",
    "                amt = int(input(\"Enter amount for Withdral \"))\n",
    "                print(\" \")\n",
    "                self.W.getwithdraw(amt,opt)\n",
    "                \n",
    "            elif(opt==2):\n",
    "                amt = int(input(\"Enter amount for Deposit \"))\n",
    "                print(\" \")\n",
    "                self.D.getdeposite(amt,opt)\n",
    "                \n",
    "            elif(opt==3):\n",
    "                cb = self.B.getBalance()\n",
    "                print(\"Current balance\",cb)\n",
    "                print(\" \")\n",
    "                \n",
    "            elif(opt==4):\n",
    "                npin = int(input(\"Enter the new pin \"))\n",
    "                print(\" \")\n",
    "                self.cp.updatepin(npin,opt)\n",
    "                \n",
    "            else:\n",
    "                break\n",
    "        print(\"Thankyou! \")\n",
    "        print(\" \")"
   ]
  },
  {
   "cell_type": "code",
   "execution_count": 6,
   "metadata": {},
   "outputs": [],
   "source": [
    "class Menu():\n",
    "    def MyMenu(self):\n",
    "        print('1 Withdraw')\n",
    "        print('2 Deposit')\n",
    "        print('3 Check Balance')\n",
    "        print('4 Change Pin')\n",
    "        print('5 Exit')"
   ]
  },
  {
   "cell_type": "code",
   "execution_count": 7,
   "metadata": {},
   "outputs": [],
   "source": [
    "class Authentication():\n",
    "    M=Menu()\n",
    "    O=Options()\n",
    "    cp=Changepin()\n",
    "    cpin=cp.getpin()\n",
    "    def auth(self,upin):\n",
    "        if(self.cpin==upin):\n",
    "             print('You are login sucessfully')\n",
    "             print(\" \")\n",
    "             self.M.MyMenu() \n",
    "             self.O.GetOption()\n",
    "        else:\n",
    "            print(\"Password is Incorrect\")\n",
    "            print(\" \")"
   ]
  },
  {
   "cell_type": "code",
   "execution_count": 8,
   "metadata": {},
   "outputs": [],
   "source": [
    "class Atm:\n",
    "    A = Authentication()\n",
    "\n",
    "    def Welcome(self):\n",
    "        print(\"Welcome to HDFC Bank ATM\")\n",
    "        upswd = int(input(\"Please enter your Pin \"))\n",
    "        print(\" \")\n",
    "        self.A.auth(upswd)"
   ]
  },
  {
   "cell_type": "code",
   "execution_count": 9,
   "metadata": {},
   "outputs": [
    {
     "name": "stdout",
     "output_type": "stream",
     "text": [
      "Welcome to HDFC Bank ATM\n",
      "Please enter your Pin 1111\n",
      " \n",
      "You are login sucessfully\n",
      " \n",
      "1 Withdraw\n",
      "2 Deposit\n",
      "3 Check Balance\n",
      "4 Change Pin\n",
      "5 Exit\n",
      " \n",
      "Enter 1 to Proceed 1\n",
      " \n",
      "Select any one from Options 1\n",
      " \n",
      "Enter amount for Withdral 1\n",
      " \n",
      "The Amount after withdrawl  9999\n",
      " \n",
      "Select any one from Options 2\n",
      " \n",
      "Enter amount for Deposit 1\n",
      " \n",
      "The Amount after deposit  10001\n",
      " \n",
      "Select any one from Options 3\n",
      " \n",
      "Current balance 10000\n",
      " \n",
      "Select any one from Options 4\n",
      " \n",
      "Enter the new pin 1456\n",
      " \n",
      "The Pin is changed Succesfully\n",
      " \n",
      "Select any one from Options 5\n",
      " \n",
      "Thankyou! \n",
      " \n"
     ]
    }
   ],
   "source": [
    "A=Atm()\n",
    "A.Welcome()"
   ]
  },
  {
   "cell_type": "code",
   "execution_count": null,
   "metadata": {},
   "outputs": [],
   "source": []
  },
  {
   "cell_type": "code",
   "execution_count": null,
   "metadata": {},
   "outputs": [],
   "source": []
  }
 ],
 "metadata": {
  "kernelspec": {
   "display_name": "Python 3",
   "language": "python",
   "name": "python3"
  },
  "language_info": {
   "codemirror_mode": {
    "name": "ipython",
    "version": 3
   },
   "file_extension": ".py",
   "mimetype": "text/x-python",
   "name": "python",
   "nbconvert_exporter": "python",
   "pygments_lexer": "ipython3",
   "version": "3.7.6"
  }
 },
 "nbformat": 4,
 "nbformat_minor": 4
}
