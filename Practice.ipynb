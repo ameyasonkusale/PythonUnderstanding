{
 "cells": [
  {
   "cell_type": "code",
   "execution_count": 20,
   "metadata": {},
   "outputs": [
    {
     "name": "stdout",
     "output_type": "stream",
     "text": [
      "701035\n"
     ]
    }
   ],
   "source": [
    "q=534127\n",
    "ans=0\n",
    "\n",
    "while(q>0):\n",
    "    r=q%10\n",
    "    if(r%2==0):\n",
    "        r=0\n",
    "    q=q//10\n",
    "    ans=ans*10+r\n",
    "print(ans)\n"
   ]
  },
  {
   "cell_type": "code",
   "execution_count": 21,
   "metadata": {},
   "outputs": [
    {
     "name": "stdout",
     "output_type": "stream",
     "text": [
      "101 102 103 104 105 106 "
     ]
    }
   ],
   "source": [
    "rollNo = [101,102,103,104,105,106]\n",
    "lengthOfList = len(rollNo)\n",
    "for i in range(0,lengthOfList):\n",
    "    print(rollNo[i], end = \" \")\n"
   ]
  },
  {
   "cell_type": "code",
   "execution_count": 7,
   "metadata": {},
   "outputs": [
    {
     "name": "stdout",
     "output_type": "stream",
     "text": [
      "[101, 102, 110, 103, 104, 105, 106]\n"
     ]
    }
   ],
   "source": [
    "rollno = [101,102,103,104,105,106]\n",
    "rollno.insert(2,110)\n",
    "print(rollno)"
   ]
  },
  {
   "cell_type": "code",
   "execution_count": 8,
   "metadata": {},
   "outputs": [
    {
     "name": "stdout",
     "output_type": "stream",
     "text": [
      "[101, 102, 103, 104, 105, 106, 110]\n"
     ]
    }
   ],
   "source": [
    "rollno = [101,102,103,104,105,106]\n",
    "rollno.append(110)\n",
    "print(rollno)"
   ]
  },
  {
   "cell_type": "code",
   "execution_count": 2,
   "metadata": {},
   "outputs": [
    {
     "name": "stdout",
     "output_type": "stream",
     "text": [
      "Greatest number of the list is: 106\n"
     ]
    }
   ],
   "source": [
    "list=[101,102,103,104,105,106]\n",
    "print(\"Greatest number of the list is:\", max(list))"
   ]
  },
  {
   "cell_type": "code",
   "execution_count": 3,
   "metadata": {},
   "outputs": [
    {
     "name": "stdout",
     "output_type": "stream",
     "text": [
      "Greatest number of the list is: 101\n"
     ]
    }
   ],
   "source": [
    "list=[101,102,103,104,105,106]\n",
    "print(\"Greatest number of the list is:\", min(list))"
   ]
  },
  {
   "cell_type": "code",
   "execution_count": 21,
   "metadata": {},
   "outputs": [
    {
     "name": "stdout",
     "output_type": "stream",
     "text": [
      "106\n"
     ]
    }
   ],
   "source": [
    "rollno = [101,102,103,104,105,106]\n",
    "max=0\n",
    "lengthOfList = len(rollno)\n",
    "for i in range(0, lengthOfList):\n",
    "    if(rollno[i]>max):\n",
    "        max=rollno[i]\n",
    "print(max)"
   ]
  },
  {
   "cell_type": "code",
   "execution_count": 24,
   "metadata": {},
   "outputs": [
    {
     "name": "stdout",
     "output_type": "stream",
     "text": [
      "100\n"
     ]
    }
   ],
   "source": [
    "rollno = [100,101,102,103,104,105,106]\n",
    "min=106\n",
    "lengthOfList = len(rollno)\n",
    "for i in range(0, lengthOfList):\n",
    "    if(rollno[i]<min):\n",
    "        min=rollno[i]\n",
    "print(min)"
   ]
  },
  {
   "cell_type": "code",
   "execution_count": 23,
   "metadata": {},
   "outputs": [
    {
     "name": "stdout",
     "output_type": "stream",
     "text": [
      "1010\n"
     ]
    }
   ],
   "source": [
    "rollno = [101,102,103,104,1010,106]\n",
    "max=0\n",
    "length= len(rollno)\n",
    "for i in range(0, length):\n",
    "    if(rollno[i]>max):\n",
    "        max=rollno[i]\n",
    "print(max)"
   ]
  },
  {
   "cell_type": "markdown",
   "metadata": {},
   "source": [
    "1.\tWrite a program to sum all the items in a list.\n",
    "2.\tWrite a program to multiply even items in a list.\n",
    "3.\tWrite a program to copy the one list to another\n",
    "\n",
    "4. Write a python program function that takes two list as an argument and return true if they contain atleast one common member\n",
    "\n",
    "5. Write a program to find the average of the list"
   ]
  },
  {
   "cell_type": "code",
   "execution_count": 28,
   "metadata": {},
   "outputs": [
    {
     "name": "stdout",
     "output_type": "stream",
     "text": [
      "The sum of the list is: 32\n"
     ]
    }
   ],
   "source": [
    "sum = 0\n",
    "list = [2,4,5,2,4,10,5]\n",
    "length= len(list)\n",
    "for i in range (0, length):\n",
    "    sum = sum + list[i]\n",
    "    \n",
    "print(\"The sum of the list is:\", sum)"
   ]
  },
  {
   "cell_type": "code",
   "execution_count": 34,
   "metadata": {},
   "outputs": [
    {
     "name": "stdout",
     "output_type": "stream",
     "text": [
      "The total is: 384\n"
     ]
    }
   ],
   "source": [
    "total = 1\n",
    "list = [2,4,5,6,8]\n",
    "length= len(list)\n",
    "for i in range (0, length):\n",
    "    if(list[i]%2==0):\n",
    "        total = total * list[i]\n",
    "print(\"The total is:\",total)"
   ]
  },
  {
   "cell_type": "code",
   "execution_count": 37,
   "metadata": {},
   "outputs": [
    {
     "name": "stdout",
     "output_type": "stream",
     "text": [
      "[1, 2, 3, 4, 5, 7, 8, 9, 10, 11]\n"
     ]
    }
   ],
   "source": [
    "list = [1,2,3,4,5]\n",
    "list2 = [7,8,9,10,11,12]\n",
    "length= len(list)\n",
    "for i in range (0, length):\n",
    "    list.append(list2[i])\n",
    "print(list)"
   ]
  },
  {
   "cell_type": "code",
   "execution_count": 50,
   "metadata": {},
   "outputs": [
    {
     "name": "stdout",
     "output_type": "stream",
     "text": [
      "The avg of the list is: 3.0\n"
     ]
    }
   ],
   "source": [
    "sum = 0\n",
    "avg = 0\n",
    "list = [1,2,3,4,5]\n",
    "length= len(list)\n",
    "for i in range (0, length):\n",
    "    sum = sum + list[i]\n",
    "    avg = sum / length\n",
    "    \n",
    "print(\"The avg of the list is:\", avg)"
   ]
  },
  {
   "cell_type": "code",
   "execution_count": 83,
   "metadata": {},
   "outputs": [],
   "source": [
    "def sample(list1, list2):\n",
    "    length = len(list1)\n",
    "    length2 = len(list2)\n",
    "    for i in range(0, length):\n",
    "        for j in range(0, length2):\n",
    "            if(list1[i]==list2[j]):\n",
    "                return True\n",
    "            else:\n",
    "                return False"
   ]
  },
  {
   "cell_type": "code",
   "execution_count": 84,
   "metadata": {},
   "outputs": [
    {
     "data": {
      "text/plain": [
       "False"
      ]
     },
     "execution_count": 84,
     "metadata": {},
     "output_type": "execute_result"
    }
   ],
   "source": [
    "list1 = [1,2,3,4,5]\n",
    "list2 = [5,6,7,8,9]\n",
    "sample(list1,list2)"
   ]
  },
  {
   "cell_type": "code",
   "execution_count": null,
   "metadata": {},
   "outputs": [],
   "source": [
    "        "
   ]
  }
 ],
 "metadata": {
  "kernelspec": {
   "display_name": "Python 3",
   "language": "python",
   "name": "python3"
  },
  "language_info": {
   "codemirror_mode": {
    "name": "ipython",
    "version": 3
   },
   "file_extension": ".py",
   "mimetype": "text/x-python",
   "name": "python",
   "nbconvert_exporter": "python",
   "pygments_lexer": "ipython3",
   "version": "3.7.6"
  }
 },
 "nbformat": 4,
 "nbformat_minor": 4
}
