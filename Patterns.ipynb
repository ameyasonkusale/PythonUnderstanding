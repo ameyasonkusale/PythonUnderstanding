{
 "cells": [
  {
   "cell_type": "code",
   "execution_count": 1,
   "metadata": {},
   "outputs": [
    {
     "name": "stdout",
     "output_type": "stream",
     "text": [
      "1 1 1 \n",
      "  1 1 \n",
      "    1 \n"
     ]
    }
   ],
   "source": [
    "for i in range (1,4):\n",
    "    for j in range(1,i):\n",
    "        print (\" \", end=\" \")\n",
    "    for k in range(i,4):\n",
    "        print(\"1\", end=\" \")\n",
    "    print ( )"
   ]
  },
  {
   "cell_type": "code",
   "execution_count": 6,
   "metadata": {},
   "outputs": [
    {
     "name": "stdout",
     "output_type": "stream",
     "text": [
      "1 2 3 \n",
      "4 5 \n",
      "6 \n"
     ]
    }
   ],
   "source": [
    "n = 1\n",
    "for i in range(0,3):\n",
    "    for j in range(i,3):\n",
    "        print (n, end=\" \")\n",
    "        n = n+1\n",
    "    print( )"
   ]
  },
  {
   "cell_type": "code",
   "execution_count": 6,
   "metadata": {},
   "outputs": [
    {
     "name": "stdout",
     "output_type": "stream",
     "text": [
      "Enter your salary:555555\n",
      "Enter Years of service:6\n",
      "Your total salary plus Bonus is =  583332.75\n"
     ]
    }
   ],
   "source": [
    "salary = int(input(\"Enter your current salary:\"))\n",
    "\n",
    "service = int(input(\"Enter Years of service:\"))\n",
    "\n",
    "if service > 5:\n",
    "\n",
    "    print(\"Your total salary plus Bonus is = \",salary + (salary)*5/100)\n",
    "\n",
    "else:\n",
    "\n",
    "     print(\"Sorry! you are not given any bonus!\")"
   ]
  },
  {
   "cell_type": "code",
   "execution_count": 6,
   "metadata": {},
   "outputs": [
    {
     "name": "stdout",
     "output_type": "stream",
     "text": [
      "5 4 3 2 1 \n",
      "4 3 2 1 \n",
      "3 2 1 \n",
      "2 1 \n",
      "1 \n"
     ]
    }
   ],
   "source": [
    "x=5\n",
    "y=5\n",
    "for i in range(0,5):\n",
    "    z=y\n",
    "    for j in range(i,5):\n",
    "        print(z, end=\" \")\n",
    "        z=z-1\n",
    "    y=y-1\n",
    "    print()"
   ]
  },
  {
   "cell_type": "markdown",
   "metadata": {},
   "source": [
    "534127 to 701035"
   ]
  },
  {
   "cell_type": "code",
   "execution_count": 1,
   "metadata": {},
   "outputs": [
    {
     "name": "stdout",
     "output_type": "stream",
     "text": [
      "reverse of the number is: 4321\n"
     ]
    }
   ],
   "source": [
    "q=1234\n",
    "ans=0\n",
    "while(q>0):\n",
    "    r=q%10\n",
    "    q=q//10\n",
    "    ans=ans*10+r\n",
    "print(\"reverse of the number is:\",ans)"
   ]
  },
  {
   "cell_type": "code",
   "execution_count": 1,
   "metadata": {},
   "outputs": [
    {
     "data": {
      "text/plain": [
       "4"
      ]
     },
     "execution_count": 1,
     "metadata": {},
     "output_type": "execute_result"
    }
   ],
   "source": [
    "2+2\n"
   ]
  },
  {
   "cell_type": "code",
   "execution_count": null,
   "metadata": {},
   "outputs": [],
   "source": []
  }
 ],
 "metadata": {
  "kernelspec": {
   "display_name": "Python 3",
   "language": "python",
   "name": "python3"
  },
  "language_info": {
   "codemirror_mode": {
    "name": "ipython",
    "version": 3
   },
   "file_extension": ".py",
   "mimetype": "text/x-python",
   "name": "python",
   "nbconvert_exporter": "python",
   "pygments_lexer": "ipython3",
   "version": "3.7.6"
  }
 },
 "nbformat": 4,
 "nbformat_minor": 4
}
