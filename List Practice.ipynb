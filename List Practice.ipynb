{
 "cells": [
  {
   "cell_type": "markdown",
   "metadata": {},
   "source": [
    "Print the list."
   ]
  },
  {
   "cell_type": "code",
   "execution_count": 1,
   "metadata": {},
   "outputs": [
    {
     "name": "stdout",
     "output_type": "stream",
     "text": [
      "101 102 103 104 105 106 "
     ]
    }
   ],
   "source": [
    "rollNo = [101,102,103,104,105,106]\n",
    "lengthOfList = len(rollNo)\n",
    "for i in range(0,lengthOfList):\n",
    "    print(rollNo[i], end = \" \")\n"
   ]
  },
  {
   "cell_type": "markdown",
   "metadata": {},
   "source": [
    "Insert an element in the list."
   ]
  },
  {
   "cell_type": "code",
   "execution_count": 2,
   "metadata": {},
   "outputs": [
    {
     "name": "stdout",
     "output_type": "stream",
     "text": [
      "[101, 102, 110, 103, 104, 105, 106]\n"
     ]
    }
   ],
   "source": [
    "rollno = [101,102,103,104,105,106]\n",
    "rollno.insert(2,110)\n",
    "print(rollno)\n"
   ]
  },
  {
   "cell_type": "markdown",
   "metadata": {},
   "source": [
    "Add an element in the list."
   ]
  },
  {
   "cell_type": "code",
   "execution_count": 3,
   "metadata": {},
   "outputs": [
    {
     "name": "stdout",
     "output_type": "stream",
     "text": [
      "[101, 102, 103, 104, 105, 106, 110]\n"
     ]
    }
   ],
   "source": [
    "rollno = [101,102,103,104,105,106]\n",
    "rollno.append(110)\n",
    "print(rollno)"
   ]
  },
  {
   "cell_type": "markdown",
   "metadata": {},
   "source": [
    "Find the greatest number from the list"
   ]
  },
  {
   "cell_type": "code",
   "execution_count": 4,
   "metadata": {},
   "outputs": [
    {
     "name": "stdout",
     "output_type": "stream",
     "text": [
      "Greatest number of the list is: 106\n"
     ]
    }
   ],
   "source": [
    "list=[101,102,103,104,105,106]\n",
    "print(\"Greatest number of the list is:\", max(list))"
   ]
  },
  {
   "cell_type": "markdown",
   "metadata": {},
   "source": [
    "Find the smallest number from th list"
   ]
  },
  {
   "cell_type": "code",
   "execution_count": 7,
   "metadata": {},
   "outputs": [
    {
     "name": "stdout",
     "output_type": "stream",
     "text": [
      "smallest number of the list is: 101\n"
     ]
    }
   ],
   "source": [
    "list=[101,102,103,104,105,106]\n",
    "print(\"smallest number of the list is:\", min(list))"
   ]
  },
  {
   "cell_type": "markdown",
   "metadata": {},
   "source": [
    "Print the max number"
   ]
  },
  {
   "cell_type": "code",
   "execution_count": 6,
   "metadata": {},
   "outputs": [
    {
     "name": "stdout",
     "output_type": "stream",
     "text": [
      "106\n"
     ]
    }
   ],
   "source": [
    "rollno = [101,102,103,104,105,106]\n",
    "max=0\n",
    "lengthOfList = len(rollno)\n",
    "for i in range(0, lengthOfList):\n",
    "    if(rollno[i]>max):\n",
    "        max=rollno[i]\n",
    "print(max)"
   ]
  },
  {
   "cell_type": "markdown",
   "metadata": {},
   "source": [
    "Print the min number"
   ]
  },
  {
   "cell_type": "code",
   "execution_count": 7,
   "metadata": {},
   "outputs": [
    {
     "name": "stdout",
     "output_type": "stream",
     "text": [
      "100\n"
     ]
    }
   ],
   "source": [
    "rollno = [100,101,102,103,104,105,106]\n",
    "min=106\n",
    "lengthOfList = len(rollno)\n",
    "for i in range(0, lengthOfList):\n",
    "    if(rollno[i]<min):\n",
    "        min=rollno[i]\n",
    "print(min)"
   ]
  },
  {
   "cell_type": "markdown",
   "metadata": {},
   "source": [
    "Print the 2nd greatest"
   ]
  },
  {
   "cell_type": "code",
   "execution_count": 8,
   "metadata": {},
   "outputs": [
    {
     "name": "stdout",
     "output_type": "stream",
     "text": [
      "1010\n"
     ]
    }
   ],
   "source": [
    "rollno = [101,102,103,104,1010,106]\n",
    "max=0\n",
    "length= len(rollno)\n",
    "for i in range(0, length):\n",
    "    if(rollno[i]>max):\n",
    "        max=rollno[i]\n",
    "print(max)"
   ]
  },
  {
   "cell_type": "code",
   "execution_count": 14,
   "metadata": {},
   "outputs": [
    {
     "name": "stdout",
     "output_type": "stream",
     "text": [
      "[10, 20, 15, 30, 18, 14, 90, 5]\n"
     ]
    },
    {
     "ename": "ValueError",
     "evalue": "list.remove(x): x not in list",
     "output_type": "error",
     "traceback": [
      "\u001b[1;31m---------------------------------------------------------------------------\u001b[0m",
      "\u001b[1;31mValueError\u001b[0m                                Traceback (most recent call last)",
      "\u001b[1;32m<ipython-input-14-42b5824d3cfa>\u001b[0m in \u001b[0;36m<module>\u001b[1;34m\u001b[0m\n\u001b[0;32m      9\u001b[0m             \u001b[0mmin\u001b[0m\u001b[1;33m=\u001b[0m\u001b[0mlist\u001b[0m\u001b[1;33m[\u001b[0m\u001b[0mi\u001b[0m\u001b[1;33m]\u001b[0m\u001b[1;33m\u001b[0m\u001b[1;33m\u001b[0m\u001b[0m\n\u001b[0;32m     10\u001b[0m     \u001b[0mnewlist\u001b[0m\u001b[1;33m.\u001b[0m\u001b[0mappend\u001b[0m\u001b[1;33m(\u001b[0m\u001b[0mmin\u001b[0m\u001b[1;33m)\u001b[0m\u001b[1;33m\u001b[0m\u001b[1;33m\u001b[0m\u001b[0m\n\u001b[1;32m---> 11\u001b[1;33m     \u001b[0mlist\u001b[0m\u001b[1;33m.\u001b[0m\u001b[0mremove\u001b[0m\u001b[1;33m(\u001b[0m\u001b[0mi\u001b[0m\u001b[1;33m)\u001b[0m\u001b[1;33m\u001b[0m\u001b[1;33m\u001b[0m\u001b[0m\n\u001b[0m\u001b[0;32m     12\u001b[0m     \u001b[0mprint\u001b[0m\u001b[1;33m(\u001b[0m\u001b[0mnewlist\u001b[0m\u001b[1;33m)\u001b[0m\u001b[1;33m\u001b[0m\u001b[1;33m\u001b[0m\u001b[0m\n\u001b[0;32m     13\u001b[0m \u001b[1;33m\u001b[0m\u001b[0m\n",
      "\u001b[1;31mValueError\u001b[0m: list.remove(x): x not in list"
     ]
    }
   ],
   "source": [
    "list=[10,20,15,30,18,14,90,5]\n",
    "newlist = []\n",
    "min=100\n",
    "length= len(list)\n",
    "print(list)\n",
    "for i in range(0, length):\n",
    "    for j in range (0, length):\n",
    "        if[list[i]<min]:\n",
    "            min=list[i]\n",
    "    newlist.append(min)\n",
    "    list.remove(i)\n",
    "    print(newlist)\n",
    "    \n",
    "    "
   ]
  },
  {
   "cell_type": "markdown",
   "metadata": {},
   "source": [
    "************************************************************************************************"
   ]
  },
  {
   "cell_type": "markdown",
   "metadata": {},
   "source": [
    "1.\tWrite a program to sum all the items in a list."
   ]
  },
  {
   "cell_type": "code",
   "execution_count": 9,
   "metadata": {},
   "outputs": [
    {
     "name": "stdout",
     "output_type": "stream",
     "text": [
      "The sum of the list is: 32\n"
     ]
    }
   ],
   "source": [
    "sum = 0\n",
    "list = [2,4,5,2,4,10,5]\n",
    "length= len(list)\n",
    "for i in range (0, length):\n",
    "    sum = sum + list[i]\n",
    "    \n",
    "print(\"The sum of the list is:\", sum)"
   ]
  },
  {
   "cell_type": "markdown",
   "metadata": {},
   "source": [
    "2.\tWrite a program to multiply even items in a list."
   ]
  },
  {
   "cell_type": "code",
   "execution_count": 10,
   "metadata": {},
   "outputs": [
    {
     "name": "stdout",
     "output_type": "stream",
     "text": [
      "The total is: 384\n"
     ]
    }
   ],
   "source": [
    "total = 1\n",
    "list = [2,4,5,6,8]\n",
    "length= len(list)\n",
    "for i in range (0, length):\n",
    "    if(list[i]%2==0):\n",
    "        total = total * list[i]\n",
    "print(\"The total is:\",total)"
   ]
  },
  {
   "cell_type": "markdown",
   "metadata": {},
   "source": [
    "3.\tWrite a program to copy the one list to another"
   ]
  },
  {
   "cell_type": "code",
   "execution_count": 3,
   "metadata": {},
   "outputs": [
    {
     "name": "stdout",
     "output_type": "stream",
     "text": [
      "[1, 2, 3, 4, 5, 7, 8, 9, 10, 11]\n"
     ]
    }
   ],
   "source": [
    "list = [1,2,3,4,5]\n",
    "list2 = [7,8,9,10,11,13]\n",
    "length= len(list)\n",
    "for i in range (0, length):\n",
    "    list.append(list2[i])\n",
    "print(list)"
   ]
  },
  {
   "cell_type": "markdown",
   "metadata": {},
   "source": [
    "4. Write a python program function that takes two list as an argument and return true if they contain atleast one common member"
   ]
  },
  {
   "cell_type": "code",
   "execution_count": 13,
   "metadata": {},
   "outputs": [],
   "source": [
    "def sample(list1, list2):\n",
    "    length = len(list1)\n",
    "    length2 = len(list2)\n",
    "    for i in range(0, length):\n",
    "        for j in range(0, length2):\n",
    "            if(list1[i]==list2[j]):\n",
    "                return True"
   ]
  },
  {
   "cell_type": "code",
   "execution_count": 14,
   "metadata": {},
   "outputs": [
    {
     "data": {
      "text/plain": [
       "True"
      ]
     },
     "execution_count": 14,
     "metadata": {},
     "output_type": "execute_result"
    }
   ],
   "source": [
    "list1 = [1,2,3,4,5]\n",
    "list2 = [5,6,7,8,9]\n",
    "sample(list1,list2)"
   ]
  },
  {
   "cell_type": "markdown",
   "metadata": {},
   "source": [
    "5. Write a program to find the average of the list"
   ]
  },
  {
   "cell_type": "code",
   "execution_count": 5,
   "metadata": {},
   "outputs": [
    {
     "name": "stdout",
     "output_type": "stream",
     "text": [
      "The avg of the list is: 3.5\n"
     ]
    }
   ],
   "source": [
    "sum = 0\n",
    "avg = 0\n",
    "list = [1,2,3,4,5,6]\n",
    "length= len(list)\n",
    "for i in range (0, length):\n",
    "    sum = sum + list[i]\n",
    "    avg = sum / length\n",
    "    \n",
    "print(\"The avg of the list is:\", avg)"
   ]
  },
  {
   "cell_type": "code",
   "execution_count": null,
   "metadata": {},
   "outputs": [],
   "source": []
  }
 ],
 "metadata": {
  "kernelspec": {
   "display_name": "Python 3",
   "language": "python",
   "name": "python3"
  },
  "language_info": {
   "codemirror_mode": {
    "name": "ipython",
    "version": 3
   },
   "file_extension": ".py",
   "mimetype": "text/x-python",
   "name": "python",
   "nbconvert_exporter": "python",
   "pygments_lexer": "ipython3",
   "version": "3.8.5"
  }
 },
 "nbformat": 4,
 "nbformat_minor": 4
}
