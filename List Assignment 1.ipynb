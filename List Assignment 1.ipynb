{
 "cells": [
  {
   "cell_type": "markdown",
   "metadata": {},
   "source": [
    "1.\tWrite a program to sum all the items in a list."
   ]
  },
  {
   "cell_type": "code",
   "execution_count": 2,
   "metadata": {
    "scrolled": false
   },
   "outputs": [
    {
     "name": "stdout",
     "output_type": "stream",
     "text": [
      "The sum of the list is: 20\n"
     ]
    }
   ],
   "source": [
    "sum = 0\n",
    "list = [10,5,5]\n",
    "length= len(list)\n",
    "for i in range (0, length):\n",
    "    sum = sum + list[i]\n",
    "    \n",
    "print(\"The sum of the list is:\", sum)"
   ]
  },
  {
   "cell_type": "markdown",
   "metadata": {},
   "source": [
    "2.\tWrite a program to multiply even items in a list."
   ]
  },
  {
   "cell_type": "code",
   "execution_count": 10,
   "metadata": {},
   "outputs": [
    {
     "name": "stdout",
     "output_type": "stream",
     "text": [
      "The total is: 384\n"
     ]
    }
   ],
   "source": [
    "total = 1\n",
    "list = [2,4,5,6,8]\n",
    "length= len(list)\n",
    "for i in range (0, length):\n",
    "    if(list[i]%2==0):\n",
    "        total = total * list[i]\n",
    "print(\"The total is:\",total)"
   ]
  },
  {
   "cell_type": "markdown",
   "metadata": {},
   "source": [
    "3.\tWrite a program to copy the one list to another"
   ]
  },
  {
   "cell_type": "code",
   "execution_count": 3,
   "metadata": {},
   "outputs": [
    {
     "name": "stdout",
     "output_type": "stream",
     "text": [
      "[1, 2, 3, 4, 5, 7, 8, 9, 10, 11]\n"
     ]
    }
   ],
   "source": [
    "list = [1,2,3,4,5]\n",
    "list2 = [7,8,9,10,11,13]\n",
    "length= len(list)\n",
    "for i in range (0, length):\n",
    "    list.append(list2[i])\n",
    "print(list)"
   ]
  },
  {
   "cell_type": "markdown",
   "metadata": {},
   "source": [
    "4. Write a python program function that takes two list as an argument and return true if they contain atleast one common member"
   ]
  },
  {
   "cell_type": "code",
   "execution_count": 13,
   "metadata": {},
   "outputs": [],
   "source": [
    "def sample(list1, list2):\n",
    "    length = len(list1)\n",
    "    length2 = len(list2)\n",
    "    for i in range(0, length):\n",
    "        for j in range(0, length2):\n",
    "            if(list1[i]==list2[j]):\n",
    "                return True"
   ]
  },
  {
   "cell_type": "code",
   "execution_count": 14,
   "metadata": {},
   "outputs": [
    {
     "data": {
      "text/plain": [
       "True"
      ]
     },
     "execution_count": 14,
     "metadata": {},
     "output_type": "execute_result"
    }
   ],
   "source": [
    "list1 = [1,2,3,4,5]\n",
    "list2 = [5,6,7,8,9]\n",
    "sample(list1,list2)"
   ]
  },
  {
   "cell_type": "markdown",
   "metadata": {},
   "source": [
    "5. Write a program to find the average of the list"
   ]
  },
  {
   "cell_type": "code",
   "execution_count": 5,
   "metadata": {},
   "outputs": [
    {
     "name": "stdout",
     "output_type": "stream",
     "text": [
      "The avg of the list is: 3.5\n"
     ]
    }
   ],
   "source": [
    "sum = 0\n",
    "avg = 0\n",
    "list = [1,2,3,4,5,6]\n",
    "length= len(list)\n",
    "for i in range (0, length):\n",
    "    sum = sum + list[i]\n",
    "    avg = sum / length\n",
    "    \n",
    "print(\"The avg of the list is:\", avg)"
   ]
  }
 ],
 "metadata": {
  "kernelspec": {
   "display_name": "Python 3",
   "language": "python",
   "name": "python3"
  },
  "language_info": {
   "codemirror_mode": {
    "name": "ipython",
    "version": 3
   },
   "file_extension": ".py",
   "mimetype": "text/x-python",
   "name": "python",
   "nbconvert_exporter": "python",
   "pygments_lexer": "ipython3",
   "version": "3.8.5"
  }
 },
 "nbformat": 4,
 "nbformat_minor": 4
}
