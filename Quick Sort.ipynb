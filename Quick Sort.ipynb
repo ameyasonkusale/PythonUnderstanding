{
 "cells": [
  {
   "cell_type": "code",
   "execution_count": 1,
   "metadata": {},
   "outputs": [
    {
     "name": "stdout",
     "output_type": "stream",
     "text": [
      "[32, 12, 56, 71, 39, 55, 1, 19, 50]\n",
      "[32, 1, 56, 71, 39, 55, 12, 19, 50]\n",
      "[32, 1, 12, 71, 39, 55, 56, 19, 50]\n",
      "[32, 1, 12, 19, 39, 55, 56, 71, 50]\n",
      "[32, 1, 12, 19, 39, 55, 56, 71, 50]\n",
      "[32, 1, 12, 19, 39, 55, 56, 71, 50]\n",
      "[32, 1, 12, 19, 39, 55, 56, 71, 50]\n",
      "[32, 1, 12, 19, 39, 55, 56, 71, 50]\n",
      "[32, 1, 12, 19, 39, 55, 56, 71, 50]\n",
      "[39, 1, 12, 19, 32, 50, 55, 71, 56]\n"
     ]
    }
   ],
   "source": [
    "a=[32,12,56,71,39,55,1,19,50]\n",
    "p=a[0]\n",
    "t0=p\n",
    "b=a[1]\n",
    "m=a[len(a)//2]\n",
    "t=1\n",
    "for x in range (0,len(a)):\n",
    "    if(b==a[x]):\n",
    "        c=x+1\n",
    "        while(c<len(a)):\n",
    "            if(p>a[c]):\n",
    "                t=a[x]\n",
    "                a[x]=a[c]\n",
    "                a[c]=t\n",
    "                b=a[x+1]\n",
    "                break\n",
    "            else:\n",
    "                c=c+1           \n",
    "    print(a)\n",
    "t=a[0]\n",
    "a[0]=a[len(a)//2]\n",
    "a[len(a)//2]=t\n",
    "m=len(a)//2\n",
    "b1=a[:m]\n",
    "c1=a[m+1:]\n",
    "b=b1[0]\n",
    "p=b1[(len(b1)//2)-1]\n",
    "for x in range (0,len(b1)):\n",
    "    if(b==b1[x]):\n",
    "        c=x+1\n",
    "        while(c<len(b1)):\n",
    "            if(p>b1[c]):\n",
    "                t=b1[x]\n",
    "                b1[x]=b1[c]\n",
    "                b1[c]=t\n",
    "                b=b1[x+1]\n",
    "                break\n",
    "            else:\n",
    "                c=c+1              \n",
    "b=c1[0]\n",
    "p=c1[(len(c1)//2)-1]\n",
    "for x in range (0,len(c1)):\n",
    "    if(b==c1[x]):\n",
    "        c=x+1\n",
    "        while(c<len(c1)):\n",
    "            if(p>c1[c]):\n",
    "                t=c1[x]\n",
    "                c1[x]=c1[c]\n",
    "                c1[c]=t\n",
    "                b=c1[x+1]\n",
    "                break\n",
    "            else:\n",
    "                c=c+1 \n",
    "a.clear()\n",
    "for x in range (0,len(b1)):\n",
    "    a.append(b1[x])\n",
    "a.append(t0)\n",
    "for x in range (0,len(c1)):\n",
    "    a.append(c1[x])\n",
    "print(a)"
   ]
  },
  {
   "cell_type": "code",
   "execution_count": null,
   "metadata": {},
   "outputs": [],
   "source": []
  }
 ],
 "metadata": {
  "kernelspec": {
   "display_name": "Python 3",
   "language": "python",
   "name": "python3"
  },
  "language_info": {
   "codemirror_mode": {
    "name": "ipython",
    "version": 3
   },
   "file_extension": ".py",
   "mimetype": "text/x-python",
   "name": "python",
   "nbconvert_exporter": "python",
   "pygments_lexer": "ipython3",
   "version": "3.7.6"
  }
 },
 "nbformat": 4,
 "nbformat_minor": 4
}
